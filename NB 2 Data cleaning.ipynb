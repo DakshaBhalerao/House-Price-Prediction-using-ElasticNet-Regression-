{
 "cells": [
  {
   "cell_type": "code",
   "execution_count": 1,
   "id": "4d066614-ded6-41cd-9c72-7239eea88975",
   "metadata": {},
   "outputs": [],
   "source": [
    "import pandas as pd\n",
    "import numpy as np\n",
    "import matplotlib.pyplot as plt\n",
    "import seaborn as sns"
   ]
  },
  {
   "cell_type": "code",
   "execution_count": 2,
   "id": "bb4427db-95a0-469d-b630-ed5c2c09e4f9",
   "metadata": {},
   "outputs": [],
   "source": [
    "df = pd.read_csv(r'D:\\Python\\Ames Housing regression model\\Ames_outliers_removed.csv')"
   ]
  },
  {
   "cell_type": "code",
   "execution_count": 3,
   "id": "d8ac1cd1-7121-4b89-aff8-63af8b308ce7",
   "metadata": {},
   "outputs": [
    {
     "data": {
      "text/html": [
       "<div>\n",
       "<style scoped>\n",
       "    .dataframe tbody tr th:only-of-type {\n",
       "        vertical-align: middle;\n",
       "    }\n",
       "\n",
       "    .dataframe tbody tr th {\n",
       "        vertical-align: top;\n",
       "    }\n",
       "\n",
       "    .dataframe thead th {\n",
       "        text-align: right;\n",
       "    }\n",
       "</style>\n",
       "<table border=\"1\" class=\"dataframe\">\n",
       "  <thead>\n",
       "    <tr style=\"text-align: right;\">\n",
       "      <th></th>\n",
       "      <th>PID</th>\n",
       "      <th>MS SubClass</th>\n",
       "      <th>MS Zoning</th>\n",
       "      <th>Lot Frontage</th>\n",
       "      <th>Lot Area</th>\n",
       "      <th>Street</th>\n",
       "      <th>Alley</th>\n",
       "      <th>Lot Shape</th>\n",
       "      <th>Land Contour</th>\n",
       "      <th>Utilities</th>\n",
       "      <th>...</th>\n",
       "      <th>Pool Area</th>\n",
       "      <th>Pool QC</th>\n",
       "      <th>Fence</th>\n",
       "      <th>Misc Feature</th>\n",
       "      <th>Misc Val</th>\n",
       "      <th>Mo Sold</th>\n",
       "      <th>Yr Sold</th>\n",
       "      <th>Sale Type</th>\n",
       "      <th>Sale Condition</th>\n",
       "      <th>SalePrice</th>\n",
       "    </tr>\n",
       "  </thead>\n",
       "  <tbody>\n",
       "    <tr>\n",
       "      <th>0</th>\n",
       "      <td>526301100</td>\n",
       "      <td>20</td>\n",
       "      <td>RL</td>\n",
       "      <td>141.0</td>\n",
       "      <td>31770</td>\n",
       "      <td>Pave</td>\n",
       "      <td>NaN</td>\n",
       "      <td>IR1</td>\n",
       "      <td>Lvl</td>\n",
       "      <td>AllPub</td>\n",
       "      <td>...</td>\n",
       "      <td>0</td>\n",
       "      <td>NaN</td>\n",
       "      <td>NaN</td>\n",
       "      <td>NaN</td>\n",
       "      <td>0</td>\n",
       "      <td>5</td>\n",
       "      <td>2010</td>\n",
       "      <td>WD</td>\n",
       "      <td>Normal</td>\n",
       "      <td>215000</td>\n",
       "    </tr>\n",
       "    <tr>\n",
       "      <th>1</th>\n",
       "      <td>526350040</td>\n",
       "      <td>20</td>\n",
       "      <td>RH</td>\n",
       "      <td>80.0</td>\n",
       "      <td>11622</td>\n",
       "      <td>Pave</td>\n",
       "      <td>NaN</td>\n",
       "      <td>Reg</td>\n",
       "      <td>Lvl</td>\n",
       "      <td>AllPub</td>\n",
       "      <td>...</td>\n",
       "      <td>0</td>\n",
       "      <td>NaN</td>\n",
       "      <td>MnPrv</td>\n",
       "      <td>NaN</td>\n",
       "      <td>0</td>\n",
       "      <td>6</td>\n",
       "      <td>2010</td>\n",
       "      <td>WD</td>\n",
       "      <td>Normal</td>\n",
       "      <td>105000</td>\n",
       "    </tr>\n",
       "    <tr>\n",
       "      <th>2</th>\n",
       "      <td>526351010</td>\n",
       "      <td>20</td>\n",
       "      <td>RL</td>\n",
       "      <td>81.0</td>\n",
       "      <td>14267</td>\n",
       "      <td>Pave</td>\n",
       "      <td>NaN</td>\n",
       "      <td>IR1</td>\n",
       "      <td>Lvl</td>\n",
       "      <td>AllPub</td>\n",
       "      <td>...</td>\n",
       "      <td>0</td>\n",
       "      <td>NaN</td>\n",
       "      <td>NaN</td>\n",
       "      <td>Gar2</td>\n",
       "      <td>12500</td>\n",
       "      <td>6</td>\n",
       "      <td>2010</td>\n",
       "      <td>WD</td>\n",
       "      <td>Normal</td>\n",
       "      <td>172000</td>\n",
       "    </tr>\n",
       "    <tr>\n",
       "      <th>3</th>\n",
       "      <td>526353030</td>\n",
       "      <td>20</td>\n",
       "      <td>RL</td>\n",
       "      <td>93.0</td>\n",
       "      <td>11160</td>\n",
       "      <td>Pave</td>\n",
       "      <td>NaN</td>\n",
       "      <td>Reg</td>\n",
       "      <td>Lvl</td>\n",
       "      <td>AllPub</td>\n",
       "      <td>...</td>\n",
       "      <td>0</td>\n",
       "      <td>NaN</td>\n",
       "      <td>NaN</td>\n",
       "      <td>NaN</td>\n",
       "      <td>0</td>\n",
       "      <td>4</td>\n",
       "      <td>2010</td>\n",
       "      <td>WD</td>\n",
       "      <td>Normal</td>\n",
       "      <td>244000</td>\n",
       "    </tr>\n",
       "    <tr>\n",
       "      <th>4</th>\n",
       "      <td>527105010</td>\n",
       "      <td>60</td>\n",
       "      <td>RL</td>\n",
       "      <td>74.0</td>\n",
       "      <td>13830</td>\n",
       "      <td>Pave</td>\n",
       "      <td>NaN</td>\n",
       "      <td>IR1</td>\n",
       "      <td>Lvl</td>\n",
       "      <td>AllPub</td>\n",
       "      <td>...</td>\n",
       "      <td>0</td>\n",
       "      <td>NaN</td>\n",
       "      <td>MnPrv</td>\n",
       "      <td>NaN</td>\n",
       "      <td>0</td>\n",
       "      <td>3</td>\n",
       "      <td>2010</td>\n",
       "      <td>WD</td>\n",
       "      <td>Normal</td>\n",
       "      <td>189900</td>\n",
       "    </tr>\n",
       "  </tbody>\n",
       "</table>\n",
       "<p>5 rows × 81 columns</p>\n",
       "</div>"
      ],
      "text/plain": [
       "         PID  MS SubClass MS Zoning  Lot Frontage  Lot Area Street Alley  \\\n",
       "0  526301100           20        RL         141.0     31770   Pave   NaN   \n",
       "1  526350040           20        RH          80.0     11622   Pave   NaN   \n",
       "2  526351010           20        RL          81.0     14267   Pave   NaN   \n",
       "3  526353030           20        RL          93.0     11160   Pave   NaN   \n",
       "4  527105010           60        RL          74.0     13830   Pave   NaN   \n",
       "\n",
       "  Lot Shape Land Contour Utilities  ... Pool Area Pool QC  Fence Misc Feature  \\\n",
       "0       IR1          Lvl    AllPub  ...         0     NaN    NaN          NaN   \n",
       "1       Reg          Lvl    AllPub  ...         0     NaN  MnPrv          NaN   \n",
       "2       IR1          Lvl    AllPub  ...         0     NaN    NaN         Gar2   \n",
       "3       Reg          Lvl    AllPub  ...         0     NaN    NaN          NaN   \n",
       "4       IR1          Lvl    AllPub  ...         0     NaN  MnPrv          NaN   \n",
       "\n",
       "  Misc Val Mo Sold Yr Sold  Sale Type  Sale Condition  SalePrice  \n",
       "0        0       5    2010        WD           Normal     215000  \n",
       "1        0       6    2010        WD           Normal     105000  \n",
       "2    12500       6    2010        WD           Normal     172000  \n",
       "3        0       4    2010        WD           Normal     244000  \n",
       "4        0       3    2010        WD           Normal     189900  \n",
       "\n",
       "[5 rows x 81 columns]"
      ]
     },
     "execution_count": 3,
     "metadata": {},
     "output_type": "execute_result"
    }
   ],
   "source": [
    "df.head()"
   ]
  },
  {
   "cell_type": "code",
   "execution_count": 4,
   "id": "19d3046c-8a6d-43d8-99c7-727afd70e7d6",
   "metadata": {},
   "outputs": [
    {
     "name": "stdout",
     "output_type": "stream",
     "text": [
      "<class 'pandas.core.frame.DataFrame'>\n",
      "RangeIndex: 2927 entries, 0 to 2926\n",
      "Data columns (total 81 columns):\n",
      " #   Column           Non-Null Count  Dtype  \n",
      "---  ------           --------------  -----  \n",
      " 0   PID              2927 non-null   int64  \n",
      " 1   MS SubClass      2927 non-null   int64  \n",
      " 2   MS Zoning        2927 non-null   object \n",
      " 3   Lot Frontage     2437 non-null   float64\n",
      " 4   Lot Area         2927 non-null   int64  \n",
      " 5   Street           2927 non-null   object \n",
      " 6   Alley            198 non-null    object \n",
      " 7   Lot Shape        2927 non-null   object \n",
      " 8   Land Contour     2927 non-null   object \n",
      " 9   Utilities        2927 non-null   object \n",
      " 10  Lot Config       2927 non-null   object \n",
      " 11  Land Slope       2927 non-null   object \n",
      " 12  Neighborhood     2927 non-null   object \n",
      " 13  Condition 1      2927 non-null   object \n",
      " 14  Condition 2      2927 non-null   object \n",
      " 15  Bldg Type        2927 non-null   object \n",
      " 16  House Style      2927 non-null   object \n",
      " 17  Overall Qual     2927 non-null   int64  \n",
      " 18  Overall Cond     2927 non-null   int64  \n",
      " 19  Year Built       2927 non-null   int64  \n",
      " 20  Year Remod/Add   2927 non-null   int64  \n",
      " 21  Roof Style       2927 non-null   object \n",
      " 22  Roof Matl        2927 non-null   object \n",
      " 23  Exterior 1st     2927 non-null   object \n",
      " 24  Exterior 2nd     2927 non-null   object \n",
      " 25  Mas Vnr Type     1152 non-null   object \n",
      " 26  Mas Vnr Area     2904 non-null   float64\n",
      " 27  Exter Qual       2927 non-null   object \n",
      " 28  Exter Cond       2927 non-null   object \n",
      " 29  Foundation       2927 non-null   object \n",
      " 30  Bsmt Qual        2847 non-null   object \n",
      " 31  Bsmt Cond        2847 non-null   object \n",
      " 32  Bsmt Exposure    2844 non-null   object \n",
      " 33  BsmtFin Type 1   2847 non-null   object \n",
      " 34  BsmtFin SF 1     2926 non-null   float64\n",
      " 35  BsmtFin Type 2   2846 non-null   object \n",
      " 36  BsmtFin SF 2     2926 non-null   float64\n",
      " 37  Bsmt Unf SF      2926 non-null   float64\n",
      " 38  Total Bsmt SF    2926 non-null   float64\n",
      " 39  Heating          2927 non-null   object \n",
      " 40  Heating QC       2927 non-null   object \n",
      " 41  Central Air      2927 non-null   object \n",
      " 42  Electrical       2926 non-null   object \n",
      " 43  1st Flr SF       2927 non-null   int64  \n",
      " 44  2nd Flr SF       2927 non-null   int64  \n",
      " 45  Low Qual Fin SF  2927 non-null   int64  \n",
      " 46  Gr Liv Area      2927 non-null   int64  \n",
      " 47  Bsmt Full Bath   2925 non-null   float64\n",
      " 48  Bsmt Half Bath   2925 non-null   float64\n",
      " 49  Full Bath        2927 non-null   int64  \n",
      " 50  Half Bath        2927 non-null   int64  \n",
      " 51  Bedroom AbvGr    2927 non-null   int64  \n",
      " 52  Kitchen AbvGr    2927 non-null   int64  \n",
      " 53  Kitchen Qual     2927 non-null   object \n",
      " 54  TotRms AbvGrd    2927 non-null   int64  \n",
      " 55  Functional       2927 non-null   object \n",
      " 56  Fireplaces       2927 non-null   int64  \n",
      " 57  Fireplace Qu     1505 non-null   object \n",
      " 58  Garage Type      2770 non-null   object \n",
      " 59  Garage Yr Blt    2768 non-null   float64\n",
      " 60  Garage Finish    2768 non-null   object \n",
      " 61  Garage Cars      2926 non-null   float64\n",
      " 62  Garage Area      2926 non-null   float64\n",
      " 63  Garage Qual      2768 non-null   object \n",
      " 64  Garage Cond      2768 non-null   object \n",
      " 65  Paved Drive      2927 non-null   object \n",
      " 66  Wood Deck SF     2927 non-null   int64  \n",
      " 67  Open Porch SF    2927 non-null   int64  \n",
      " 68  Enclosed Porch   2927 non-null   int64  \n",
      " 69  3Ssn Porch       2927 non-null   int64  \n",
      " 70  Screen Porch     2927 non-null   int64  \n",
      " 71  Pool Area        2927 non-null   int64  \n",
      " 72  Pool QC          12 non-null     object \n",
      " 73  Fence            572 non-null    object \n",
      " 74  Misc Feature     105 non-null    object \n",
      " 75  Misc Val         2927 non-null   int64  \n",
      " 76  Mo Sold          2927 non-null   int64  \n",
      " 77  Yr Sold          2927 non-null   int64  \n",
      " 78  Sale Type        2927 non-null   object \n",
      " 79  Sale Condition   2927 non-null   object \n",
      " 80  SalePrice        2927 non-null   int64  \n",
      "dtypes: float64(11), int64(27), object(43)\n",
      "memory usage: 1.8+ MB\n"
     ]
    }
   ],
   "source": [
    "df.info()"
   ]
  },
  {
   "cell_type": "code",
   "execution_count": 5,
   "id": "34b8d613-415c-4caa-977e-6655b6be192d",
   "metadata": {},
   "outputs": [
    {
     "data": {
      "text/html": [
       "<div>\n",
       "<style scoped>\n",
       "    .dataframe tbody tr th:only-of-type {\n",
       "        vertical-align: middle;\n",
       "    }\n",
       "\n",
       "    .dataframe tbody tr th {\n",
       "        vertical-align: top;\n",
       "    }\n",
       "\n",
       "    .dataframe thead th {\n",
       "        text-align: right;\n",
       "    }\n",
       "</style>\n",
       "<table border=\"1\" class=\"dataframe\">\n",
       "  <thead>\n",
       "    <tr style=\"text-align: right;\">\n",
       "      <th></th>\n",
       "      <th>PID</th>\n",
       "      <th>MS SubClass</th>\n",
       "      <th>MS Zoning</th>\n",
       "      <th>Lot Frontage</th>\n",
       "      <th>Lot Area</th>\n",
       "      <th>Street</th>\n",
       "      <th>Alley</th>\n",
       "      <th>Lot Shape</th>\n",
       "      <th>Land Contour</th>\n",
       "      <th>Utilities</th>\n",
       "      <th>...</th>\n",
       "      <th>Pool Area</th>\n",
       "      <th>Pool QC</th>\n",
       "      <th>Fence</th>\n",
       "      <th>Misc Feature</th>\n",
       "      <th>Misc Val</th>\n",
       "      <th>Mo Sold</th>\n",
       "      <th>Yr Sold</th>\n",
       "      <th>Sale Type</th>\n",
       "      <th>Sale Condition</th>\n",
       "      <th>SalePrice</th>\n",
       "    </tr>\n",
       "  </thead>\n",
       "  <tbody>\n",
       "    <tr>\n",
       "      <th>0</th>\n",
       "      <td>False</td>\n",
       "      <td>False</td>\n",
       "      <td>False</td>\n",
       "      <td>False</td>\n",
       "      <td>False</td>\n",
       "      <td>False</td>\n",
       "      <td>True</td>\n",
       "      <td>False</td>\n",
       "      <td>False</td>\n",
       "      <td>False</td>\n",
       "      <td>...</td>\n",
       "      <td>False</td>\n",
       "      <td>True</td>\n",
       "      <td>True</td>\n",
       "      <td>True</td>\n",
       "      <td>False</td>\n",
       "      <td>False</td>\n",
       "      <td>False</td>\n",
       "      <td>False</td>\n",
       "      <td>False</td>\n",
       "      <td>False</td>\n",
       "    </tr>\n",
       "    <tr>\n",
       "      <th>1</th>\n",
       "      <td>False</td>\n",
       "      <td>False</td>\n",
       "      <td>False</td>\n",
       "      <td>False</td>\n",
       "      <td>False</td>\n",
       "      <td>False</td>\n",
       "      <td>True</td>\n",
       "      <td>False</td>\n",
       "      <td>False</td>\n",
       "      <td>False</td>\n",
       "      <td>...</td>\n",
       "      <td>False</td>\n",
       "      <td>True</td>\n",
       "      <td>False</td>\n",
       "      <td>True</td>\n",
       "      <td>False</td>\n",
       "      <td>False</td>\n",
       "      <td>False</td>\n",
       "      <td>False</td>\n",
       "      <td>False</td>\n",
       "      <td>False</td>\n",
       "    </tr>\n",
       "    <tr>\n",
       "      <th>2</th>\n",
       "      <td>False</td>\n",
       "      <td>False</td>\n",
       "      <td>False</td>\n",
       "      <td>False</td>\n",
       "      <td>False</td>\n",
       "      <td>False</td>\n",
       "      <td>True</td>\n",
       "      <td>False</td>\n",
       "      <td>False</td>\n",
       "      <td>False</td>\n",
       "      <td>...</td>\n",
       "      <td>False</td>\n",
       "      <td>True</td>\n",
       "      <td>True</td>\n",
       "      <td>False</td>\n",
       "      <td>False</td>\n",
       "      <td>False</td>\n",
       "      <td>False</td>\n",
       "      <td>False</td>\n",
       "      <td>False</td>\n",
       "      <td>False</td>\n",
       "    </tr>\n",
       "    <tr>\n",
       "      <th>3</th>\n",
       "      <td>False</td>\n",
       "      <td>False</td>\n",
       "      <td>False</td>\n",
       "      <td>False</td>\n",
       "      <td>False</td>\n",
       "      <td>False</td>\n",
       "      <td>True</td>\n",
       "      <td>False</td>\n",
       "      <td>False</td>\n",
       "      <td>False</td>\n",
       "      <td>...</td>\n",
       "      <td>False</td>\n",
       "      <td>True</td>\n",
       "      <td>True</td>\n",
       "      <td>True</td>\n",
       "      <td>False</td>\n",
       "      <td>False</td>\n",
       "      <td>False</td>\n",
       "      <td>False</td>\n",
       "      <td>False</td>\n",
       "      <td>False</td>\n",
       "    </tr>\n",
       "    <tr>\n",
       "      <th>4</th>\n",
       "      <td>False</td>\n",
       "      <td>False</td>\n",
       "      <td>False</td>\n",
       "      <td>False</td>\n",
       "      <td>False</td>\n",
       "      <td>False</td>\n",
       "      <td>True</td>\n",
       "      <td>False</td>\n",
       "      <td>False</td>\n",
       "      <td>False</td>\n",
       "      <td>...</td>\n",
       "      <td>False</td>\n",
       "      <td>True</td>\n",
       "      <td>False</td>\n",
       "      <td>True</td>\n",
       "      <td>False</td>\n",
       "      <td>False</td>\n",
       "      <td>False</td>\n",
       "      <td>False</td>\n",
       "      <td>False</td>\n",
       "      <td>False</td>\n",
       "    </tr>\n",
       "    <tr>\n",
       "      <th>...</th>\n",
       "      <td>...</td>\n",
       "      <td>...</td>\n",
       "      <td>...</td>\n",
       "      <td>...</td>\n",
       "      <td>...</td>\n",
       "      <td>...</td>\n",
       "      <td>...</td>\n",
       "      <td>...</td>\n",
       "      <td>...</td>\n",
       "      <td>...</td>\n",
       "      <td>...</td>\n",
       "      <td>...</td>\n",
       "      <td>...</td>\n",
       "      <td>...</td>\n",
       "      <td>...</td>\n",
       "      <td>...</td>\n",
       "      <td>...</td>\n",
       "      <td>...</td>\n",
       "      <td>...</td>\n",
       "      <td>...</td>\n",
       "      <td>...</td>\n",
       "    </tr>\n",
       "    <tr>\n",
       "      <th>2922</th>\n",
       "      <td>False</td>\n",
       "      <td>False</td>\n",
       "      <td>False</td>\n",
       "      <td>False</td>\n",
       "      <td>False</td>\n",
       "      <td>False</td>\n",
       "      <td>True</td>\n",
       "      <td>False</td>\n",
       "      <td>False</td>\n",
       "      <td>False</td>\n",
       "      <td>...</td>\n",
       "      <td>False</td>\n",
       "      <td>True</td>\n",
       "      <td>False</td>\n",
       "      <td>True</td>\n",
       "      <td>False</td>\n",
       "      <td>False</td>\n",
       "      <td>False</td>\n",
       "      <td>False</td>\n",
       "      <td>False</td>\n",
       "      <td>False</td>\n",
       "    </tr>\n",
       "    <tr>\n",
       "      <th>2923</th>\n",
       "      <td>False</td>\n",
       "      <td>False</td>\n",
       "      <td>False</td>\n",
       "      <td>True</td>\n",
       "      <td>False</td>\n",
       "      <td>False</td>\n",
       "      <td>True</td>\n",
       "      <td>False</td>\n",
       "      <td>False</td>\n",
       "      <td>False</td>\n",
       "      <td>...</td>\n",
       "      <td>False</td>\n",
       "      <td>True</td>\n",
       "      <td>False</td>\n",
       "      <td>True</td>\n",
       "      <td>False</td>\n",
       "      <td>False</td>\n",
       "      <td>False</td>\n",
       "      <td>False</td>\n",
       "      <td>False</td>\n",
       "      <td>False</td>\n",
       "    </tr>\n",
       "    <tr>\n",
       "      <th>2924</th>\n",
       "      <td>False</td>\n",
       "      <td>False</td>\n",
       "      <td>False</td>\n",
       "      <td>False</td>\n",
       "      <td>False</td>\n",
       "      <td>False</td>\n",
       "      <td>True</td>\n",
       "      <td>False</td>\n",
       "      <td>False</td>\n",
       "      <td>False</td>\n",
       "      <td>...</td>\n",
       "      <td>False</td>\n",
       "      <td>True</td>\n",
       "      <td>False</td>\n",
       "      <td>False</td>\n",
       "      <td>False</td>\n",
       "      <td>False</td>\n",
       "      <td>False</td>\n",
       "      <td>False</td>\n",
       "      <td>False</td>\n",
       "      <td>False</td>\n",
       "    </tr>\n",
       "    <tr>\n",
       "      <th>2925</th>\n",
       "      <td>False</td>\n",
       "      <td>False</td>\n",
       "      <td>False</td>\n",
       "      <td>False</td>\n",
       "      <td>False</td>\n",
       "      <td>False</td>\n",
       "      <td>True</td>\n",
       "      <td>False</td>\n",
       "      <td>False</td>\n",
       "      <td>False</td>\n",
       "      <td>...</td>\n",
       "      <td>False</td>\n",
       "      <td>True</td>\n",
       "      <td>True</td>\n",
       "      <td>True</td>\n",
       "      <td>False</td>\n",
       "      <td>False</td>\n",
       "      <td>False</td>\n",
       "      <td>False</td>\n",
       "      <td>False</td>\n",
       "      <td>False</td>\n",
       "    </tr>\n",
       "    <tr>\n",
       "      <th>2926</th>\n",
       "      <td>False</td>\n",
       "      <td>False</td>\n",
       "      <td>False</td>\n",
       "      <td>False</td>\n",
       "      <td>False</td>\n",
       "      <td>False</td>\n",
       "      <td>True</td>\n",
       "      <td>False</td>\n",
       "      <td>False</td>\n",
       "      <td>False</td>\n",
       "      <td>...</td>\n",
       "      <td>False</td>\n",
       "      <td>True</td>\n",
       "      <td>True</td>\n",
       "      <td>True</td>\n",
       "      <td>False</td>\n",
       "      <td>False</td>\n",
       "      <td>False</td>\n",
       "      <td>False</td>\n",
       "      <td>False</td>\n",
       "      <td>False</td>\n",
       "    </tr>\n",
       "  </tbody>\n",
       "</table>\n",
       "<p>2927 rows × 81 columns</p>\n",
       "</div>"
      ],
      "text/plain": [
       "        PID  MS SubClass  MS Zoning  Lot Frontage  Lot Area  Street  Alley  \\\n",
       "0     False        False      False         False     False   False   True   \n",
       "1     False        False      False         False     False   False   True   \n",
       "2     False        False      False         False     False   False   True   \n",
       "3     False        False      False         False     False   False   True   \n",
       "4     False        False      False         False     False   False   True   \n",
       "...     ...          ...        ...           ...       ...     ...    ...   \n",
       "2922  False        False      False         False     False   False   True   \n",
       "2923  False        False      False          True     False   False   True   \n",
       "2924  False        False      False         False     False   False   True   \n",
       "2925  False        False      False         False     False   False   True   \n",
       "2926  False        False      False         False     False   False   True   \n",
       "\n",
       "      Lot Shape  Land Contour  Utilities  ...  Pool Area  Pool QC  Fence  \\\n",
       "0         False         False      False  ...      False     True   True   \n",
       "1         False         False      False  ...      False     True  False   \n",
       "2         False         False      False  ...      False     True   True   \n",
       "3         False         False      False  ...      False     True   True   \n",
       "4         False         False      False  ...      False     True  False   \n",
       "...         ...           ...        ...  ...        ...      ...    ...   \n",
       "2922      False         False      False  ...      False     True  False   \n",
       "2923      False         False      False  ...      False     True  False   \n",
       "2924      False         False      False  ...      False     True  False   \n",
       "2925      False         False      False  ...      False     True   True   \n",
       "2926      False         False      False  ...      False     True   True   \n",
       "\n",
       "      Misc Feature  Misc Val  Mo Sold  Yr Sold  Sale Type  Sale Condition  \\\n",
       "0             True     False    False    False      False           False   \n",
       "1             True     False    False    False      False           False   \n",
       "2            False     False    False    False      False           False   \n",
       "3             True     False    False    False      False           False   \n",
       "4             True     False    False    False      False           False   \n",
       "...            ...       ...      ...      ...        ...             ...   \n",
       "2922          True     False    False    False      False           False   \n",
       "2923          True     False    False    False      False           False   \n",
       "2924         False     False    False    False      False           False   \n",
       "2925          True     False    False    False      False           False   \n",
       "2926          True     False    False    False      False           False   \n",
       "\n",
       "      SalePrice  \n",
       "0         False  \n",
       "1         False  \n",
       "2         False  \n",
       "3         False  \n",
       "4         False  \n",
       "...         ...  \n",
       "2922      False  \n",
       "2923      False  \n",
       "2924      False  \n",
       "2925      False  \n",
       "2926      False  \n",
       "\n",
       "[2927 rows x 81 columns]"
      ]
     },
     "execution_count": 5,
     "metadata": {},
     "output_type": "execute_result"
    }
   ],
   "source": [
    "df.isnull()"
   ]
  },
  {
   "cell_type": "code",
   "execution_count": 6,
   "id": "51ce274b-7253-4fbb-b0df-0715478d8f4b",
   "metadata": {},
   "outputs": [
    {
     "data": {
      "text/plain": [
       "PID                 0\n",
       "MS SubClass         0\n",
       "MS Zoning           0\n",
       "Lot Frontage      490\n",
       "Lot Area            0\n",
       "                 ... \n",
       "Mo Sold             0\n",
       "Yr Sold             0\n",
       "Sale Type           0\n",
       "Sale Condition      0\n",
       "SalePrice           0\n",
       "Length: 81, dtype: int64"
      ]
     },
     "execution_count": 6,
     "metadata": {},
     "output_type": "execute_result"
    }
   ],
   "source": [
    "df.isnull().sum()"
   ]
  },
  {
   "cell_type": "markdown",
   "id": "19511ccd-3cf3-4191-8ebe-9923b14d54b1",
   "metadata": {},
   "source": [
    "## calculating the % of missing data"
   ]
  },
  {
   "cell_type": "code",
   "execution_count": 7,
   "id": "b0a8cc5a-0870-4e41-b6e7-8e0006951d62",
   "metadata": {},
   "outputs": [],
   "source": [
    "def percent_missing(df):\n",
    "    percent_nan = 100*df.isnull().sum()/len(df)\n",
    "    percent_nan = percent_nan[percent_nan > 0].sort_values()\n",
    "    return percent_nan"
   ]
  },
  {
   "cell_type": "code",
   "execution_count": 8,
   "id": "537e232d-2fce-459f-bc09-944f4d4cde37",
   "metadata": {},
   "outputs": [],
   "source": [
    "missing_percent = percent_missing(df)"
   ]
  },
  {
   "cell_type": "code",
   "execution_count": 9,
   "id": "1ec9d36a-758a-4c14-a8eb-e32b66064cc2",
   "metadata": {},
   "outputs": [
    {
     "name": "stdout",
     "output_type": "stream",
     "text": [
      "Electrical         0.034165\n",
      "Garage Cars        0.034165\n",
      "BsmtFin SF 1       0.034165\n",
      "Garage Area        0.034165\n",
      "BsmtFin SF 2       0.034165\n",
      "Bsmt Unf SF        0.034165\n",
      "Total Bsmt SF      0.034165\n",
      "Bsmt Half Bath     0.068329\n",
      "Bsmt Full Bath     0.068329\n",
      "Mas Vnr Area       0.785787\n",
      "Bsmt Qual          2.733174\n",
      "Bsmt Cond          2.733174\n",
      "BsmtFin Type 1     2.733174\n",
      "BsmtFin Type 2     2.767339\n",
      "Bsmt Exposure      2.835668\n",
      "Garage Type        5.363854\n",
      "Garage Qual        5.432183\n",
      "Garage Cond        5.432183\n",
      "Garage Yr Blt      5.432183\n",
      "Garage Finish      5.432183\n",
      "Lot Frontage      16.740690\n",
      "Fireplace Qu      48.582166\n",
      "Mas Vnr Type      60.642296\n",
      "Fence             80.457807\n",
      "Alley             93.235395\n",
      "Misc Feature      96.412709\n",
      "Pool QC           99.590024\n",
      "dtype: float64\n"
     ]
    }
   ],
   "source": [
    "print(missing_percent)"
   ]
  },
  {
   "cell_type": "code",
   "execution_count": 10,
   "id": "18f368fb-25a1-4a7d-8a38-cfde4eab7c9c",
   "metadata": {},
   "outputs": [
    {
     "data": {
      "text/plain": [
       "(array([ 0,  1,  2,  3,  4,  5,  6,  7,  8,  9, 10, 11, 12, 13, 14, 15, 16,\n",
       "        17, 18, 19, 20, 21, 22, 23, 24, 25, 26]),\n",
       " [Text(0, 0, 'Electrical'),\n",
       "  Text(1, 0, 'Garage Cars'),\n",
       "  Text(2, 0, 'BsmtFin SF 1'),\n",
       "  Text(3, 0, 'Garage Area'),\n",
       "  Text(4, 0, 'BsmtFin SF 2'),\n",
       "  Text(5, 0, 'Bsmt Unf SF'),\n",
       "  Text(6, 0, 'Total Bsmt SF'),\n",
       "  Text(7, 0, 'Bsmt Half Bath'),\n",
       "  Text(8, 0, 'Bsmt Full Bath'),\n",
       "  Text(9, 0, 'Mas Vnr Area'),\n",
       "  Text(10, 0, 'Bsmt Qual'),\n",
       "  Text(11, 0, 'Bsmt Cond'),\n",
       "  Text(12, 0, 'BsmtFin Type 1'),\n",
       "  Text(13, 0, 'BsmtFin Type 2'),\n",
       "  Text(14, 0, 'Bsmt Exposure'),\n",
       "  Text(15, 0, 'Garage Type'),\n",
       "  Text(16, 0, 'Garage Qual'),\n",
       "  Text(17, 0, 'Garage Cond'),\n",
       "  Text(18, 0, 'Garage Yr Blt'),\n",
       "  Text(19, 0, 'Garage Finish'),\n",
       "  Text(20, 0, 'Lot Frontage'),\n",
       "  Text(21, 0, 'Fireplace Qu'),\n",
       "  Text(22, 0, 'Mas Vnr Type'),\n",
       "  Text(23, 0, 'Fence'),\n",
       "  Text(24, 0, 'Alley'),\n",
       "  Text(25, 0, 'Misc Feature'),\n",
       "  Text(26, 0, 'Pool QC')])"
      ]
     },
     "execution_count": 10,
     "metadata": {},
     "output_type": "execute_result"
    },
    {
     "data": {
      "image/png": "[encoded data removed]",
      "text/plain": [
       "<Figure size 640x480 with 1 Axes>"
      ]
     },
     "metadata": {},
     "output_type": "display_data"
    }
   ],
   "source": [
    "sns.barplot(x = missing_percent.index, y = missing_percent) # .index returns the index labels of the Series, which  are the column names\n",
    "plt.xticks(rotation = 90) # rotates the x-axis labels by 90 degrees for better readability"
   ]
  },
  {
   "cell_type": "markdown",
   "id": "7a8348cc-d977-417d-98d6-807667b59415",
   "metadata": {},
   "source": [
    "## working on rows missing data "
   ]
  },
  {
   "cell_type": "code",
   "execution_count": 11,
   "id": "bad7d084-ad5b-4b39-83d7-6b6ff0dcf9cb",
   "metadata": {},
   "outputs": [],
   "source": [
    "# if less than 1% of the rows are missing this feature, we will consider just dropping that row, instead of dealing with the feature itself."
   ]
  },
  {
   "cell_type": "code",
   "execution_count": 12,
   "id": "3e80952c-b818-49c2-a97a-77c79454d891",
   "metadata": {},
   "outputs": [
    {
     "data": {
      "text/plain": [
       "(0.0, 1.0)"
      ]
     },
     "execution_count": 12,
     "metadata": {},
     "output_type": "execute_result"
    },
    {
     "data": {
      "image/png": "[encoded data removed]",
      "text/plain": [
       "<Figure size 640x480 with 1 Axes>"
      ]
     },
     "metadata": {},
     "output_type": "display_data"
    }
   ],
   "source": [
    "sns.barplot(x = missing_percent.index, y = missing_percent)\n",
    "plt.xticks(rotation = 90)\n",
    "plt.ylim(0,1) # sets the lower limit of the y-axis to 0 and the upper limit to 1."
   ]
  },
  {
   "cell_type": "code",
   "execution_count": 13,
   "id": "b490e72f-b0d3-439c-810f-f0ed1ac7931c",
   "metadata": {},
   "outputs": [
    {
     "data": {
      "text/plain": [
       "Electrical        0.034165\n",
       "Garage Cars       0.034165\n",
       "BsmtFin SF 1      0.034165\n",
       "Garage Area       0.034165\n",
       "BsmtFin SF 2      0.034165\n",
       "Bsmt Unf SF       0.034165\n",
       "Total Bsmt SF     0.034165\n",
       "Bsmt Half Bath    0.068329\n",
       "Bsmt Full Bath    0.068329\n",
       "Mas Vnr Area      0.785787\n",
       "dtype: float64"
      ]
     },
     "execution_count": 13,
     "metadata": {},
     "output_type": "execute_result"
    }
   ],
   "source": [
    "missing_percent[missing_percent<1]"
   ]
  },
  {
   "cell_type": "code",
   "execution_count": 14,
   "id": "56ccaca6-981e-417c-91f4-2487c428afe6",
   "metadata": {},
   "outputs": [
    {
     "data": {
      "text/plain": [
       "0.0341646737273659"
      ]
     },
     "execution_count": 14,
     "metadata": {},
     "output_type": "execute_result"
    }
   ],
   "source": [
    "100/len(df)"
   ]
  },
  {
   "cell_type": "code",
   "execution_count": 15,
   "id": "2ce2f3dc-ec91-4307-94ed-779ead8ed3b1",
   "metadata": {},
   "outputs": [
    {
     "data": {
      "text/html": [
       "<div>\n",
       "<style scoped>\n",
       "    .dataframe tbody tr th:only-of-type {\n",
       "        vertical-align: middle;\n",
       "    }\n",
       "\n",
       "    .dataframe tbody tr th {\n",
       "        vertical-align: top;\n",
       "    }\n",
       "\n",
       "    .dataframe thead th {\n",
       "        text-align: right;\n",
       "    }\n",
       "</style>\n",
       "<table border=\"1\" class=\"dataframe\">\n",
       "  <thead>\n",
       "    <tr style=\"text-align: right;\">\n",
       "      <th></th>\n",
       "      <th>PID</th>\n",
       "      <th>MS SubClass</th>\n",
       "      <th>MS Zoning</th>\n",
       "      <th>Lot Frontage</th>\n",
       "      <th>Lot Area</th>\n",
       "      <th>Street</th>\n",
       "      <th>Alley</th>\n",
       "      <th>Lot Shape</th>\n",
       "      <th>Land Contour</th>\n",
       "      <th>Utilities</th>\n",
       "      <th>...</th>\n",
       "      <th>Pool Area</th>\n",
       "      <th>Pool QC</th>\n",
       "      <th>Fence</th>\n",
       "      <th>Misc Feature</th>\n",
       "      <th>Misc Val</th>\n",
       "      <th>Mo Sold</th>\n",
       "      <th>Yr Sold</th>\n",
       "      <th>Sale Type</th>\n",
       "      <th>Sale Condition</th>\n",
       "      <th>SalePrice</th>\n",
       "    </tr>\n",
       "  </thead>\n",
       "  <tbody>\n",
       "    <tr>\n",
       "      <th>1341</th>\n",
       "      <td>903230120</td>\n",
       "      <td>20</td>\n",
       "      <td>RM</td>\n",
       "      <td>99.0</td>\n",
       "      <td>5940</td>\n",
       "      <td>Pave</td>\n",
       "      <td>NaN</td>\n",
       "      <td>IR1</td>\n",
       "      <td>Lvl</td>\n",
       "      <td>AllPub</td>\n",
       "      <td>...</td>\n",
       "      <td>0</td>\n",
       "      <td>NaN</td>\n",
       "      <td>MnPrv</td>\n",
       "      <td>NaN</td>\n",
       "      <td>0</td>\n",
       "      <td>4</td>\n",
       "      <td>2008</td>\n",
       "      <td>ConLD</td>\n",
       "      <td>Abnorml</td>\n",
       "      <td>79000</td>\n",
       "    </tr>\n",
       "  </tbody>\n",
       "</table>\n",
       "<p>1 rows × 81 columns</p>\n",
       "</div>"
      ],
      "text/plain": [
       "            PID  MS SubClass MS Zoning  Lot Frontage  Lot Area Street Alley  \\\n",
       "1341  903230120           20        RM          99.0      5940   Pave   NaN   \n",
       "\n",
       "     Lot Shape Land Contour Utilities  ... Pool Area Pool QC  Fence  \\\n",
       "1341       IR1          Lvl    AllPub  ...         0     NaN  MnPrv   \n",
       "\n",
       "     Misc Feature Misc Val Mo Sold Yr Sold  Sale Type  Sale Condition  \\\n",
       "1341          NaN        0       4    2008      ConLD         Abnorml   \n",
       "\n",
       "      SalePrice  \n",
       "1341      79000  \n",
       "\n",
       "[1 rows x 81 columns]"
      ]
     },
     "execution_count": 15,
     "metadata": {},
     "output_type": "execute_result"
    }
   ],
   "source": [
    "df[df['Total Bsmt SF'].isnull()]"
   ]
  },
  {
   "cell_type": "code",
   "execution_count": 16,
   "id": "5fe8db73-920d-4158-b43c-24b1ff11e2a1",
   "metadata": {},
   "outputs": [
    {
     "data": {
      "text/html": [
       "<div>\n",
       "<style scoped>\n",
       "    .dataframe tbody tr th:only-of-type {\n",
       "        vertical-align: middle;\n",
       "    }\n",
       "\n",
       "    .dataframe tbody tr th {\n",
       "        vertical-align: top;\n",
       "    }\n",
       "\n",
       "    .dataframe thead th {\n",
       "        text-align: right;\n",
       "    }\n",
       "</style>\n",
       "<table border=\"1\" class=\"dataframe\">\n",
       "  <thead>\n",
       "    <tr style=\"text-align: right;\">\n",
       "      <th></th>\n",
       "      <th>PID</th>\n",
       "      <th>MS SubClass</th>\n",
       "      <th>MS Zoning</th>\n",
       "      <th>Lot Frontage</th>\n",
       "      <th>Lot Area</th>\n",
       "      <th>Street</th>\n",
       "      <th>Alley</th>\n",
       "      <th>Lot Shape</th>\n",
       "      <th>Land Contour</th>\n",
       "      <th>Utilities</th>\n",
       "      <th>...</th>\n",
       "      <th>Pool Area</th>\n",
       "      <th>Pool QC</th>\n",
       "      <th>Fence</th>\n",
       "      <th>Misc Feature</th>\n",
       "      <th>Misc Val</th>\n",
       "      <th>Mo Sold</th>\n",
       "      <th>Yr Sold</th>\n",
       "      <th>Sale Type</th>\n",
       "      <th>Sale Condition</th>\n",
       "      <th>SalePrice</th>\n",
       "    </tr>\n",
       "  </thead>\n",
       "  <tbody>\n",
       "    <tr>\n",
       "      <th>1341</th>\n",
       "      <td>903230120</td>\n",
       "      <td>20</td>\n",
       "      <td>RM</td>\n",
       "      <td>99.0</td>\n",
       "      <td>5940</td>\n",
       "      <td>Pave</td>\n",
       "      <td>NaN</td>\n",
       "      <td>IR1</td>\n",
       "      <td>Lvl</td>\n",
       "      <td>AllPub</td>\n",
       "      <td>...</td>\n",
       "      <td>0</td>\n",
       "      <td>NaN</td>\n",
       "      <td>MnPrv</td>\n",
       "      <td>NaN</td>\n",
       "      <td>0</td>\n",
       "      <td>4</td>\n",
       "      <td>2008</td>\n",
       "      <td>ConLD</td>\n",
       "      <td>Abnorml</td>\n",
       "      <td>79000</td>\n",
       "    </tr>\n",
       "    <tr>\n",
       "      <th>1497</th>\n",
       "      <td>908154080</td>\n",
       "      <td>20</td>\n",
       "      <td>RL</td>\n",
       "      <td>123.0</td>\n",
       "      <td>47007</td>\n",
       "      <td>Pave</td>\n",
       "      <td>NaN</td>\n",
       "      <td>IR1</td>\n",
       "      <td>Lvl</td>\n",
       "      <td>AllPub</td>\n",
       "      <td>...</td>\n",
       "      <td>0</td>\n",
       "      <td>NaN</td>\n",
       "      <td>NaN</td>\n",
       "      <td>NaN</td>\n",
       "      <td>0</td>\n",
       "      <td>7</td>\n",
       "      <td>2008</td>\n",
       "      <td>WD</td>\n",
       "      <td>Normal</td>\n",
       "      <td>284700</td>\n",
       "    </tr>\n",
       "  </tbody>\n",
       "</table>\n",
       "<p>2 rows × 81 columns</p>\n",
       "</div>"
      ],
      "text/plain": [
       "            PID  MS SubClass MS Zoning  Lot Frontage  Lot Area Street Alley  \\\n",
       "1341  903230120           20        RM          99.0      5940   Pave   NaN   \n",
       "1497  908154080           20        RL         123.0     47007   Pave   NaN   \n",
       "\n",
       "     Lot Shape Land Contour Utilities  ... Pool Area Pool QC  Fence  \\\n",
       "1341       IR1          Lvl    AllPub  ...         0     NaN  MnPrv   \n",
       "1497       IR1          Lvl    AllPub  ...         0     NaN    NaN   \n",
       "\n",
       "     Misc Feature Misc Val Mo Sold Yr Sold  Sale Type  Sale Condition  \\\n",
       "1341          NaN        0       4    2008      ConLD         Abnorml   \n",
       "1497          NaN        0       7    2008        WD           Normal   \n",
       "\n",
       "      SalePrice  \n",
       "1341      79000  \n",
       "1497     284700  \n",
       "\n",
       "[2 rows x 81 columns]"
      ]
     },
     "execution_count": 16,
     "metadata": {},
     "output_type": "execute_result"
    }
   ],
   "source": [
    "df[df['Bsmt Half Bath'].isnull()]"
   ]
  },
  {
   "cell_type": "markdown",
   "id": "271a0661-08fa-4b53-a902-12c43e3b5bf3",
   "metadata": {},
   "source": [
    "## Filling in data based on column names "
   ]
  },
  {
   "cell_type": "code",
   "execution_count": 17,
   "id": "b4930467-4006-46f1-a7cf-0e06c21b9a5a",
   "metadata": {},
   "outputs": [],
   "source": [
    "# There are 2 types of basement features, numerical and string descriptive"
   ]
  },
  {
   "cell_type": "code",
   "execution_count": 18,
   "id": "1fa6ca27-1785-4769-9534-8ae6aab6c379",
   "metadata": {},
   "outputs": [
    {
     "data": {
      "text/plain": [
       "Index(['Bsmt Qual', 'Bsmt Cond', 'Bsmt Exposure', 'BsmtFin Type 1',\n",
       "       'BsmtFin SF 1', 'BsmtFin Type 2', 'BsmtFin SF 2', 'Bsmt Unf SF',\n",
       "       'Total Bsmt SF', 'Bsmt Full Bath', 'Bsmt Half Bath'],\n",
       "      dtype='object')"
      ]
     },
     "execution_count": 18,
     "metadata": {},
     "output_type": "execute_result"
    }
   ],
   "source": [
    "df.filter(like = 'Bsmt').columns"
   ]
  },
  {
   "cell_type": "code",
   "execution_count": 19,
   "id": "5531f7b1-f018-4c63-accb-4244ebfeaa74",
   "metadata": {},
   "outputs": [],
   "source": [
    "bsmt_col =  df.filter(like = 'Bsmt').columns"
   ]
  },
  {
   "cell_type": "code",
   "execution_count": 20,
   "id": "6b19cbe0-4925-4263-ac0a-7edbfde383b8",
   "metadata": {},
   "outputs": [],
   "source": [
    "selected_col = df[bsmt_col]"
   ]
  },
  {
   "cell_type": "code",
   "execution_count": 21,
   "id": "6bb2d27a-ec21-426a-8405-48ccbdf69648",
   "metadata": {},
   "outputs": [
    {
     "data": {
      "text/plain": [
       "Bsmt Qual          object\n",
       "Bsmt Cond          object\n",
       "Bsmt Exposure      object\n",
       "BsmtFin Type 1     object\n",
       "BsmtFin SF 1      float64\n",
       "BsmtFin Type 2     object\n",
       "BsmtFin SF 2      float64\n",
       "Bsmt Unf SF       float64\n",
       "Total Bsmt SF     float64\n",
       "Bsmt Full Bath    float64\n",
       "Bsmt Half Bath    float64\n",
       "dtype: object"
      ]
     },
     "execution_count": 21,
     "metadata": {},
     "output_type": "execute_result"
    }
   ],
   "source": [
    "selected_col.dtypes"
   ]
  },
  {
   "cell_type": "code",
   "execution_count": 22,
   "id": "be6c3a86-8257-453f-bc3a-9a944751d07b",
   "metadata": {},
   "outputs": [],
   "source": [
    "bsmt_num_cols = ['BsmtFin SF 1','BsmtFin SF 2','Bsmt Unf SF','Total Bsmt SF','Bsmt Full Bath','Bsmt Half Bath']\n",
    "\n",
    "df[bsmt_num_cols] = df[bsmt_num_cols].fillna(0)"
   ]
  },
  {
   "cell_type": "code",
   "execution_count": 23,
   "id": "f0dfdf97-a41c-40a7-b94e-8a6544f43a4b",
   "metadata": {},
   "outputs": [],
   "source": [
    "bsmt_str_cols = ['Bsmt Qual', 'Bsmt Cond', 'Bsmt Exposure', 'BsmtFin Type 1', 'BsmtFin Type 2']\n",
    "\n",
    "df[bsmt_str_cols] = df[bsmt_str_cols].fillna('None')"
   ]
  },
  {
   "cell_type": "code",
   "execution_count": 24,
   "id": "a259a7eb-daaf-4616-8ff3-ef7131511504",
   "metadata": {},
   "outputs": [],
   "source": [
    "missing_percent = percent_missing(df)"
   ]
  },
  {
   "cell_type": "code",
   "execution_count": 25,
   "id": "26ea3b09-6b34-4670-8e65-306e50723227",
   "metadata": {},
   "outputs": [
    {
     "data": {
      "text/plain": [
       "(array([ 0,  1,  2,  3,  4,  5,  6,  7,  8,  9, 10, 11, 12, 13, 14, 15]),\n",
       " [Text(0, 0, 'Electrical'),\n",
       "  Text(1, 0, 'Garage Cars'),\n",
       "  Text(2, 0, 'Garage Area'),\n",
       "  Text(3, 0, 'Mas Vnr Area'),\n",
       "  Text(4, 0, 'Garage Type'),\n",
       "  Text(5, 0, 'Garage Yr Blt'),\n",
       "  Text(6, 0, 'Garage Finish'),\n",
       "  Text(7, 0, 'Garage Qual'),\n",
       "  Text(8, 0, 'Garage Cond'),\n",
       "  Text(9, 0, 'Lot Frontage'),\n",
       "  Text(10, 0, 'Fireplace Qu'),\n",
       "  Text(11, 0, 'Mas Vnr Type'),\n",
       "  Text(12, 0, 'Fence'),\n",
       "  Text(13, 0, 'Alley'),\n",
       "  Text(14, 0, 'Misc Feature'),\n",
       "  Text(15, 0, 'Pool QC')])"
      ]
     },
     "execution_count": 25,
     "metadata": {},
     "output_type": "execute_result"
    },
    {
     "data": {
      "image/png": "[encoded data removed]",
      "text/plain": [
       "<Figure size 640x480 with 1 Axes>"
      ]
     },
     "metadata": {},
     "output_type": "display_data"
    }
   ],
   "source": [
    "sns.barplot(x = missing_percent.index , y = missing_percent)\n",
    "plt.xticks(rotation = 90)"
   ]
  },
  {
   "cell_type": "markdown",
   "id": "1a4b8bd6-6689-43b8-9590-01ab4780d055",
   "metadata": {},
   "source": [
    "## Dropping rows"
   ]
  },
  {
   "cell_type": "code",
   "execution_count": 26,
   "id": "f36b7e68-adfc-4f08-b5ea-0b27087010b7",
   "metadata": {},
   "outputs": [],
   "source": [
    "df = df.dropna( axis = 0 , subset= ['Electrical', 'Garage Cars'])\n",
    "\n",
    "# axis = specifies rows should be dropped\n",
    "# subset = ['var1', 'var2'] Specifies the subset of columns to consider when dropping rows. \n",
    "# If any of the specified columns have missing values in a row, that row will be dropped."
   ]
  },
  {
   "cell_type": "code",
   "execution_count": 27,
   "id": "9c67b533-5176-42d0-b615-507ed3156b4e",
   "metadata": {},
   "outputs": [],
   "source": [
    "missing_percent = percent_missing(df)"
   ]
  },
  {
   "cell_type": "code",
   "execution_count": 28,
   "id": "1d363c7e-58f2-42a0-af22-e0acb4f99140",
   "metadata": {},
   "outputs": [
    {
     "data": {
      "text/plain": [
       "(0.0, 1.0)"
      ]
     },
     "execution_count": 28,
     "metadata": {},
     "output_type": "execute_result"
    },
    {
     "data": {
      "image/png": "[encoded data removed]",
      "text/plain": [
       "<Figure size 640x480 with 1 Axes>"
      ]
     },
     "metadata": {},
     "output_type": "display_data"
    }
   ],
   "source": [
    "sns.barplot(x = missing_percent.index, y = missing_percent)\n",
    "plt.xticks(rotation = 90)\n",
    "plt.ylim(0,1)"
   ]
  },
  {
   "cell_type": "code",
   "execution_count": 29,
   "id": "ec538866-9345-4654-bb20-6a41880acb03",
   "metadata": {},
   "outputs": [],
   "source": [
    "df['Mas Vnr Area'] = df['Mas Vnr Area'].fillna(0)\n",
    "df['Mas Vnr Type'] = df['Mas Vnr Type'].fillna('None')"
   ]
  },
  {
   "cell_type": "code",
   "execution_count": 30,
   "id": "6191e2c3-f78a-4766-9c12-e25e021a7040",
   "metadata": {},
   "outputs": [],
   "source": [
    "missing_percent = percent_missing(df)"
   ]
  },
  {
   "cell_type": "code",
   "execution_count": 31,
   "id": "8c3576f3-cde8-49b6-a85b-1dc83efcc01b",
   "metadata": {},
   "outputs": [
    {
     "data": {
      "text/plain": [
       "(array([ 0,  1,  2,  3,  4,  5,  6,  7,  8,  9, 10]),\n",
       " [Text(0, 0, 'Garage Type'),\n",
       "  Text(1, 0, 'Garage Yr Blt'),\n",
       "  Text(2, 0, 'Garage Finish'),\n",
       "  Text(3, 0, 'Garage Qual'),\n",
       "  Text(4, 0, 'Garage Cond'),\n",
       "  Text(5, 0, 'Lot Frontage'),\n",
       "  Text(6, 0, 'Fireplace Qu'),\n",
       "  Text(7, 0, 'Fence'),\n",
       "  Text(8, 0, 'Alley'),\n",
       "  Text(9, 0, 'Misc Feature'),\n",
       "  Text(10, 0, 'Pool QC')])"
      ]
     },
     "execution_count": 31,
     "metadata": {},
     "output_type": "execute_result"
    },
    {
     "data": {
      "image/png": "[encoded data removed]",
      "text/plain": [
       "<Figure size 640x480 with 1 Axes>"
      ]
     },
     "metadata": {},
     "output_type": "display_data"
    }
   ],
   "source": [
    "sns.barplot(x = missing_percent.index, y = missing_percent)\n",
    "plt.xticks(rotation = 90)"
   ]
  },
  {
   "cell_type": "code",
   "execution_count": 32,
   "id": "b8041691-85d2-4e0f-88ca-08c4f6a61287",
   "metadata": {},
   "outputs": [
    {
     "data": {
      "text/html": [
       "<div>\n",
       "<style scoped>\n",
       "    .dataframe tbody tr th:only-of-type {\n",
       "        vertical-align: middle;\n",
       "    }\n",
       "\n",
       "    .dataframe tbody tr th {\n",
       "        vertical-align: top;\n",
       "    }\n",
       "\n",
       "    .dataframe thead th {\n",
       "        text-align: right;\n",
       "    }\n",
       "</style>\n",
       "<table border=\"1\" class=\"dataframe\">\n",
       "  <thead>\n",
       "    <tr style=\"text-align: right;\">\n",
       "      <th></th>\n",
       "      <th>Garage Type</th>\n",
       "      <th>Garage Yr Blt</th>\n",
       "      <th>Garage Finish</th>\n",
       "      <th>Garage Qual</th>\n",
       "      <th>Garage Cond</th>\n",
       "    </tr>\n",
       "  </thead>\n",
       "  <tbody>\n",
       "    <tr>\n",
       "      <th>0</th>\n",
       "      <td>Attchd</td>\n",
       "      <td>1960.0</td>\n",
       "      <td>Fin</td>\n",
       "      <td>TA</td>\n",
       "      <td>TA</td>\n",
       "    </tr>\n",
       "    <tr>\n",
       "      <th>1</th>\n",
       "      <td>Attchd</td>\n",
       "      <td>1961.0</td>\n",
       "      <td>Unf</td>\n",
       "      <td>TA</td>\n",
       "      <td>TA</td>\n",
       "    </tr>\n",
       "    <tr>\n",
       "      <th>2</th>\n",
       "      <td>Attchd</td>\n",
       "      <td>1958.0</td>\n",
       "      <td>Unf</td>\n",
       "      <td>TA</td>\n",
       "      <td>TA</td>\n",
       "    </tr>\n",
       "    <tr>\n",
       "      <th>3</th>\n",
       "      <td>Attchd</td>\n",
       "      <td>1968.0</td>\n",
       "      <td>Fin</td>\n",
       "      <td>TA</td>\n",
       "      <td>TA</td>\n",
       "    </tr>\n",
       "    <tr>\n",
       "      <th>4</th>\n",
       "      <td>Attchd</td>\n",
       "      <td>1997.0</td>\n",
       "      <td>Fin</td>\n",
       "      <td>TA</td>\n",
       "      <td>TA</td>\n",
       "    </tr>\n",
       "    <tr>\n",
       "      <th>...</th>\n",
       "      <td>...</td>\n",
       "      <td>...</td>\n",
       "      <td>...</td>\n",
       "      <td>...</td>\n",
       "      <td>...</td>\n",
       "    </tr>\n",
       "    <tr>\n",
       "      <th>2922</th>\n",
       "      <td>Detchd</td>\n",
       "      <td>1984.0</td>\n",
       "      <td>Unf</td>\n",
       "      <td>TA</td>\n",
       "      <td>TA</td>\n",
       "    </tr>\n",
       "    <tr>\n",
       "      <th>2923</th>\n",
       "      <td>Attchd</td>\n",
       "      <td>1983.0</td>\n",
       "      <td>Unf</td>\n",
       "      <td>TA</td>\n",
       "      <td>TA</td>\n",
       "    </tr>\n",
       "    <tr>\n",
       "      <th>2924</th>\n",
       "      <td>NaN</td>\n",
       "      <td>NaN</td>\n",
       "      <td>NaN</td>\n",
       "      <td>NaN</td>\n",
       "      <td>NaN</td>\n",
       "    </tr>\n",
       "    <tr>\n",
       "      <th>2925</th>\n",
       "      <td>Attchd</td>\n",
       "      <td>1975.0</td>\n",
       "      <td>RFn</td>\n",
       "      <td>TA</td>\n",
       "      <td>TA</td>\n",
       "    </tr>\n",
       "    <tr>\n",
       "      <th>2926</th>\n",
       "      <td>Attchd</td>\n",
       "      <td>1993.0</td>\n",
       "      <td>Fin</td>\n",
       "      <td>TA</td>\n",
       "      <td>TA</td>\n",
       "    </tr>\n",
       "  </tbody>\n",
       "</table>\n",
       "<p>2925 rows × 5 columns</p>\n",
       "</div>"
      ],
      "text/plain": [
       "     Garage Type  Garage Yr Blt Garage Finish Garage Qual Garage Cond\n",
       "0         Attchd         1960.0           Fin          TA          TA\n",
       "1         Attchd         1961.0           Unf          TA          TA\n",
       "2         Attchd         1958.0           Unf          TA          TA\n",
       "3         Attchd         1968.0           Fin          TA          TA\n",
       "4         Attchd         1997.0           Fin          TA          TA\n",
       "...          ...            ...           ...         ...         ...\n",
       "2922      Detchd         1984.0           Unf          TA          TA\n",
       "2923      Attchd         1983.0           Unf          TA          TA\n",
       "2924         NaN            NaN           NaN         NaN         NaN\n",
       "2925      Attchd         1975.0           RFn          TA          TA\n",
       "2926      Attchd         1993.0           Fin          TA          TA\n",
       "\n",
       "[2925 rows x 5 columns]"
      ]
     },
     "execution_count": 32,
     "metadata": {},
     "output_type": "execute_result"
    }
   ],
   "source": [
    "df[['Garage Type', 'Garage Yr Blt', 'Garage Finish', 'Garage Qual', 'Garage Cond']]"
   ]
  },
  {
   "cell_type": "code",
   "execution_count": 33,
   "id": "c0f0302c-a052-4483-9a7e-110967dfe038",
   "metadata": {},
   "outputs": [],
   "source": [
    "# Based on data description, these NaN at id 2924 and similar seem to indicate no garage so we will substitute it with 'None' & '0'"
   ]
  },
  {
   "cell_type": "code",
   "execution_count": 34,
   "id": "661536c8-7f9c-4e87-9800-abd69422060c",
   "metadata": {},
   "outputs": [],
   "source": [
    "gar_str_cols = ['Garage Type', 'Garage Finish', 'Garage Qual', 'Garage Cond']\n",
    "\n",
    "df[gar_str_cols] = df[gar_str_cols].fillna('None')"
   ]
  },
  {
   "cell_type": "code",
   "execution_count": 35,
   "id": "c127b1b9-c220-4c9f-817f-322d490f8246",
   "metadata": {},
   "outputs": [],
   "source": [
    "df['Garage Yr Blt'] = df['Garage Yr Blt'].fillna(0)"
   ]
  },
  {
   "cell_type": "code",
   "execution_count": 36,
   "id": "096843f2-e900-4871-a2b0-51c7a115098e",
   "metadata": {},
   "outputs": [],
   "source": [
    "missing_percent = percent_missing(df)"
   ]
  },
  {
   "cell_type": "code",
   "execution_count": 37,
   "id": "0f40886a-625a-49b5-9a56-917e9bd4aaab",
   "metadata": {},
   "outputs": [
    {
     "data": {
      "text/plain": [
       "(array([0, 1, 2, 3, 4, 5]),\n",
       " [Text(0, 0, 'Lot Frontage'),\n",
       "  Text(1, 0, 'Fireplace Qu'),\n",
       "  Text(2, 0, 'Fence'),\n",
       "  Text(3, 0, 'Alley'),\n",
       "  Text(4, 0, 'Misc Feature'),\n",
       "  Text(5, 0, 'Pool QC')])"
      ]
     },
     "execution_count": 37,
     "metadata": {},
     "output_type": "execute_result"
    },
    {
     "data": {
      "image/png": "[encoded data removed]",
      "text/plain": [
       "<Figure size 640x480 with 1 Axes>"
      ]
     },
     "metadata": {},
     "output_type": "display_data"
    }
   ],
   "source": [
    "sns.barplot(x = missing_percent.index, y = missing_percent)\n",
    "plt.xticks(rotation = 90)"
   ]
  },
  {
   "cell_type": "code",
   "execution_count": 38,
   "id": "b42085b3-c3c6-43f4-9aba-9d1d06715978",
   "metadata": {},
   "outputs": [
    {
     "data": {
      "text/plain": [
       "Index(['Lot Frontage', 'Fireplace Qu', 'Fence', 'Alley', 'Misc Feature',\n",
       "       'Pool QC'],\n",
       "      dtype='object')"
      ]
     },
     "execution_count": 38,
     "metadata": {},
     "output_type": "execute_result"
    }
   ],
   "source": [
    "missing_percent.index"
   ]
  },
  {
   "cell_type": "code",
   "execution_count": 39,
   "id": "79287b5a-ed90-44f8-bc55-bab6042e63ff",
   "metadata": {},
   "outputs": [
    {
     "data": {
      "text/html": [
       "<div>\n",
       "<style scoped>\n",
       "    .dataframe tbody tr th:only-of-type {\n",
       "        vertical-align: middle;\n",
       "    }\n",
       "\n",
       "    .dataframe tbody tr th {\n",
       "        vertical-align: top;\n",
       "    }\n",
       "\n",
       "    .dataframe thead th {\n",
       "        text-align: right;\n",
       "    }\n",
       "</style>\n",
       "<table border=\"1\" class=\"dataframe\">\n",
       "  <thead>\n",
       "    <tr style=\"text-align: right;\">\n",
       "      <th></th>\n",
       "      <th>Lot Frontage</th>\n",
       "      <th>Fireplace Qu</th>\n",
       "      <th>Fence</th>\n",
       "      <th>Alley</th>\n",
       "      <th>Misc Feature</th>\n",
       "      <th>Pool QC</th>\n",
       "    </tr>\n",
       "  </thead>\n",
       "  <tbody>\n",
       "    <tr>\n",
       "      <th>0</th>\n",
       "      <td>141.0</td>\n",
       "      <td>Gd</td>\n",
       "      <td>NaN</td>\n",
       "      <td>NaN</td>\n",
       "      <td>NaN</td>\n",
       "      <td>NaN</td>\n",
       "    </tr>\n",
       "    <tr>\n",
       "      <th>1</th>\n",
       "      <td>80.0</td>\n",
       "      <td>NaN</td>\n",
       "      <td>MnPrv</td>\n",
       "      <td>NaN</td>\n",
       "      <td>NaN</td>\n",
       "      <td>NaN</td>\n",
       "    </tr>\n",
       "    <tr>\n",
       "      <th>2</th>\n",
       "      <td>81.0</td>\n",
       "      <td>NaN</td>\n",
       "      <td>NaN</td>\n",
       "      <td>NaN</td>\n",
       "      <td>Gar2</td>\n",
       "      <td>NaN</td>\n",
       "    </tr>\n",
       "    <tr>\n",
       "      <th>3</th>\n",
       "      <td>93.0</td>\n",
       "      <td>TA</td>\n",
       "      <td>NaN</td>\n",
       "      <td>NaN</td>\n",
       "      <td>NaN</td>\n",
       "      <td>NaN</td>\n",
       "    </tr>\n",
       "    <tr>\n",
       "      <th>4</th>\n",
       "      <td>74.0</td>\n",
       "      <td>TA</td>\n",
       "      <td>MnPrv</td>\n",
       "      <td>NaN</td>\n",
       "      <td>NaN</td>\n",
       "      <td>NaN</td>\n",
       "    </tr>\n",
       "    <tr>\n",
       "      <th>...</th>\n",
       "      <td>...</td>\n",
       "      <td>...</td>\n",
       "      <td>...</td>\n",
       "      <td>...</td>\n",
       "      <td>...</td>\n",
       "      <td>...</td>\n",
       "    </tr>\n",
       "    <tr>\n",
       "      <th>2922</th>\n",
       "      <td>37.0</td>\n",
       "      <td>NaN</td>\n",
       "      <td>GdPrv</td>\n",
       "      <td>NaN</td>\n",
       "      <td>NaN</td>\n",
       "      <td>NaN</td>\n",
       "    </tr>\n",
       "    <tr>\n",
       "      <th>2923</th>\n",
       "      <td>NaN</td>\n",
       "      <td>NaN</td>\n",
       "      <td>MnPrv</td>\n",
       "      <td>NaN</td>\n",
       "      <td>NaN</td>\n",
       "      <td>NaN</td>\n",
       "    </tr>\n",
       "    <tr>\n",
       "      <th>2924</th>\n",
       "      <td>62.0</td>\n",
       "      <td>NaN</td>\n",
       "      <td>MnPrv</td>\n",
       "      <td>NaN</td>\n",
       "      <td>Shed</td>\n",
       "      <td>NaN</td>\n",
       "    </tr>\n",
       "    <tr>\n",
       "      <th>2925</th>\n",
       "      <td>77.0</td>\n",
       "      <td>TA</td>\n",
       "      <td>NaN</td>\n",
       "      <td>NaN</td>\n",
       "      <td>NaN</td>\n",
       "      <td>NaN</td>\n",
       "    </tr>\n",
       "    <tr>\n",
       "      <th>2926</th>\n",
       "      <td>74.0</td>\n",
       "      <td>TA</td>\n",
       "      <td>NaN</td>\n",
       "      <td>NaN</td>\n",
       "      <td>NaN</td>\n",
       "      <td>NaN</td>\n",
       "    </tr>\n",
       "  </tbody>\n",
       "</table>\n",
       "<p>2925 rows × 6 columns</p>\n",
       "</div>"
      ],
      "text/plain": [
       "      Lot Frontage Fireplace Qu  Fence Alley Misc Feature Pool QC\n",
       "0            141.0           Gd    NaN   NaN          NaN     NaN\n",
       "1             80.0          NaN  MnPrv   NaN          NaN     NaN\n",
       "2             81.0          NaN    NaN   NaN         Gar2     NaN\n",
       "3             93.0           TA    NaN   NaN          NaN     NaN\n",
       "4             74.0           TA  MnPrv   NaN          NaN     NaN\n",
       "...            ...          ...    ...   ...          ...     ...\n",
       "2922          37.0          NaN  GdPrv   NaN          NaN     NaN\n",
       "2923           NaN          NaN  MnPrv   NaN          NaN     NaN\n",
       "2924          62.0          NaN  MnPrv   NaN         Shed     NaN\n",
       "2925          77.0           TA    NaN   NaN          NaN     NaN\n",
       "2926          74.0           TA    NaN   NaN          NaN     NaN\n",
       "\n",
       "[2925 rows x 6 columns]"
      ]
     },
     "execution_count": 39,
     "metadata": {},
     "output_type": "execute_result"
    }
   ],
   "source": [
    "df[['Lot Frontage', 'Fireplace Qu', 'Fence', 'Alley', 'Misc Feature','Pool QC']]"
   ]
  },
  {
   "cell_type": "code",
   "execution_count": 40,
   "id": "650fb498-b4a4-4604-936a-d71caadd56ee",
   "metadata": {},
   "outputs": [],
   "source": [
    "# as Pool QC,' Misc Feature', 'Fence',' Alley' would not serve as much information for analysis we will drop these columns"
   ]
  },
  {
   "cell_type": "code",
   "execution_count": 41,
   "id": "4f65bbb1-cd13-4e79-b5d3-68d59a8be85f",
   "metadata": {},
   "outputs": [],
   "source": [
    "df = df.drop(['Fence', 'Alley', 'Misc Feature','Pool QC'],axis = 1)"
   ]
  },
  {
   "cell_type": "code",
   "execution_count": 42,
   "id": "9d2157d9-f7f6-47bf-8c89-57a0d1c5df20",
   "metadata": {},
   "outputs": [],
   "source": [
    "df['Fireplace Qu'] = df['Fireplace Qu'].fillna('None')"
   ]
  },
  {
   "cell_type": "code",
   "execution_count": 43,
   "id": "4f28e922-8cc4-4f43-affa-c5c4b791bf0b",
   "metadata": {},
   "outputs": [],
   "source": [
    "missing_percent = percent_missing(df)"
   ]
  },
  {
   "cell_type": "code",
   "execution_count": 44,
   "id": "b8ae25af-f129-44fa-b142-1a01db00bdef",
   "metadata": {},
   "outputs": [
    {
     "data": {
      "text/plain": [
       "<Axes: >"
      ]
     },
     "execution_count": 44,
     "metadata": {},
     "output_type": "execute_result"
    },
    {
     "data": {
      "image/png": "[encoded data removed]",
      "text/plain": [
       "<Figure size 640x480 with 1 Axes>"
      ]
     },
     "metadata": {},
     "output_type": "display_data"
    }
   ],
   "source": [
    "sns.barplot(x = missing_percent.index, y = missing_percent)"
   ]
  },
  {
   "cell_type": "markdown",
   "id": "7427fa2a-5c52-4d8c-9142-47e5351e6325",
   "metadata": {},
   "source": [
    "## Identifying the relation of missing data"
   ]
  },
  {
   "cell_type": "code",
   "execution_count": 45,
   "id": "80df81c0-58e9-4ae6-b839-7a41381c8605",
   "metadata": {},
   "outputs": [
    {
     "data": {
      "text/plain": [
       "Index(['PID', 'MS SubClass', 'MS Zoning', 'Lot Frontage', 'Lot Area', 'Street',\n",
       "       'Lot Shape', 'Land Contour', 'Utilities', 'Lot Config', 'Land Slope',\n",
       "       'Neighborhood', 'Condition 1', 'Condition 2', 'Bldg Type',\n",
       "       'House Style', 'Overall Qual', 'Overall Cond', 'Year Built',\n",
       "       'Year Remod/Add', 'Roof Style', 'Roof Matl', 'Exterior 1st',\n",
       "       'Exterior 2nd', 'Mas Vnr Type', 'Mas Vnr Area', 'Exter Qual',\n",
       "       'Exter Cond', 'Foundation', 'Bsmt Qual', 'Bsmt Cond', 'Bsmt Exposure',\n",
       "       'BsmtFin Type 1', 'BsmtFin SF 1', 'BsmtFin Type 2', 'BsmtFin SF 2',\n",
       "       'Bsmt Unf SF', 'Total Bsmt SF', 'Heating', 'Heating QC', 'Central Air',\n",
       "       'Electrical', '1st Flr SF', '2nd Flr SF', 'Low Qual Fin SF',\n",
       "       'Gr Liv Area', 'Bsmt Full Bath', 'Bsmt Half Bath', 'Full Bath',\n",
       "       'Half Bath', 'Bedroom AbvGr', 'Kitchen AbvGr', 'Kitchen Qual',\n",
       "       'TotRms AbvGrd', 'Functional', 'Fireplaces', 'Fireplace Qu',\n",
       "       'Garage Type', 'Garage Yr Blt', 'Garage Finish', 'Garage Cars',\n",
       "       'Garage Area', 'Garage Qual', 'Garage Cond', 'Paved Drive',\n",
       "       'Wood Deck SF', 'Open Porch SF', 'Enclosed Porch', '3Ssn Porch',\n",
       "       'Screen Porch', 'Pool Area', 'Misc Val', 'Mo Sold', 'Yr Sold',\n",
       "       'Sale Type', 'Sale Condition', 'SalePrice'],\n",
       "      dtype='object')"
      ]
     },
     "execution_count": 45,
     "metadata": {},
     "output_type": "execute_result"
    }
   ],
   "source": [
    "df.columns"
   ]
  },
  {
   "cell_type": "code",
   "execution_count": 46,
   "id": "48bfc03a-c4eb-4b7d-a81a-215ab238c954",
   "metadata": {},
   "outputs": [],
   "source": [
    "#-- We need to decide what other filled-in (no NaN values) feature most probably relates and is correlated with the missing feature data. \n",
    "#--In this particular case we will use:\n",
    "#--Neighborhood: Physical locations within Ames city limits\n",
    "#--LotFrontage: Linear feet of street connected to the property\n",
    "#--We will operate under the assumption that the Lot Frontage is related to what neighborhood a house is in."
   ]
  },
  {
   "cell_type": "code",
   "execution_count": 47,
   "id": "217135c0-2c8b-4a67-8370-6b7b286dc861",
   "metadata": {},
   "outputs": [
    {
     "data": {
      "text/plain": [
       "array(['NAmes', 'Gilbert', 'StoneBr', 'NWAmes', 'Somerst', 'BrDale',\n",
       "       'NPkVill', 'NridgHt', 'Blmngtn', 'NoRidge', 'SawyerW', 'Sawyer',\n",
       "       'Greens', 'BrkSide', 'OldTown', 'IDOTRR', 'ClearCr', 'SWISU',\n",
       "       'Edwards', 'CollgCr', 'Crawfor', 'Blueste', 'Mitchel', 'Timber',\n",
       "       'MeadowV', 'Veenker', 'GrnHill', 'Landmrk'], dtype=object)"
      ]
     },
     "execution_count": 47,
     "metadata": {},
     "output_type": "execute_result"
    }
   ],
   "source": [
    "df['Neighborhood'].unique()"
   ]
  },
  {
   "cell_type": "code",
   "execution_count": 48,
   "id": "3a5eb363-900d-40a2-a4d9-86a6f0745175",
   "metadata": {},
   "outputs": [
    {
     "data": {
      "text/plain": [
       "<Axes: xlabel='Lot Frontage', ylabel='Neighborhood'>"
      ]
     },
     "execution_count": 48,
     "metadata": {},
     "output_type": "execute_result"
    },
    {
     "data": {
      "image/png": "[encoded data removed]",
      "text/plain": [
       "<Figure size 800x1200 with 1 Axes>"
      ]
     },
     "metadata": {},
     "output_type": "display_data"
    }
   ],
   "source": [
    "plt.figure(figsize=(8,12))\n",
    "sns.boxplot(x = 'Lot Frontage' , y = 'Neighborhood', data = df) # checking the spread of data with respect to neigbourhood"
   ]
  },
  {
   "cell_type": "code",
   "execution_count": 49,
   "id": "5e5fd5b5-e5f1-4f62-901e-b55a4ac15b4e",
   "metadata": {},
   "outputs": [],
   "source": [
    "# By using groupby function we will group the data by unique neighbourhood and analyze the 'Lot Frontage' values within each neighborhood"
   ]
  },
  {
   "cell_type": "code",
   "execution_count": 50,
   "id": "b2b8978b-ce84-4f3a-8f15-0efde893e37a",
   "metadata": {},
   "outputs": [],
   "source": [
    "#group the data by neighborhood and select the 'lot Frontage' column"
   ]
  },
  {
   "cell_type": "code",
   "execution_count": 51,
   "id": "a7b4189a-0fc0-453d-9893-9c3a35f8689e",
   "metadata": {},
   "outputs": [
    {
     "data": {
      "text/plain": [
       "<pandas.core.groupby.generic.SeriesGroupBy object at 0x0000021730F07290>"
      ]
     },
     "execution_count": 51,
     "metadata": {},
     "output_type": "execute_result"
    }
   ],
   "source": [
    "df.groupby('Neighborhood')['Lot Frontage']"
   ]
  },
  {
   "cell_type": "code",
   "execution_count": 52,
   "id": "d709f661-cf41-4ac0-befc-d5df77a21daf",
   "metadata": {},
   "outputs": [],
   "source": [
    "grouped_data = df.groupby('Neighborhood')['Lot Frontage']"
   ]
  },
  {
   "cell_type": "code",
   "execution_count": 53,
   "id": "edd60a87-1eed-48ad-a2ff-7cdd2e222123",
   "metadata": {},
   "outputs": [],
   "source": [
    "#calculating the mean of Lot Frontage for each neighbourhood"
   ]
  },
  {
   "cell_type": "code",
   "execution_count": 54,
   "id": "a7942b22-67ff-483f-9d0d-2f292872fee2",
   "metadata": {},
   "outputs": [
    {
     "data": {
      "text/plain": [
       "Neighborhood\n",
       "Blmngtn    46.900000\n",
       "Blueste    27.300000\n",
       "BrDale     21.500000\n",
       "BrkSide    55.789474\n",
       "ClearCr    88.150000\n",
       "CollgCr    71.336364\n",
       "Crawfor    69.951807\n",
       "Edwards    64.794286\n",
       "Gilbert    74.207207\n",
       "Greens     41.000000\n",
       "GrnHill          NaN\n",
       "IDOTRR     62.383721\n",
       "Landmrk          NaN\n",
       "MeadowV    25.606061\n",
       "Mitchel    75.144444\n",
       "NAmes      75.210667\n",
       "NPkVill    28.142857\n",
       "NWAmes     81.517647\n",
       "NoRidge    91.629630\n",
       "NridgHt    84.184049\n",
       "OldTown    61.777293\n",
       "SWISU      59.068182\n",
       "Sawyer     74.551020\n",
       "SawyerW    70.669811\n",
       "Somerst    64.549383\n",
       "StoneBr    62.173913\n",
       "Timber     81.303571\n",
       "Veenker    72.000000\n",
       "Name: Lot Frontage, dtype: float64"
      ]
     },
     "execution_count": 54,
     "metadata": {},
     "output_type": "execute_result"
    }
   ],
   "source": [
    "grouped_data.mean()"
   ]
  },
  {
   "cell_type": "code",
   "execution_count": 55,
   "id": "5197769e-e7d0-4d28-b26e-dcedcc2a9ba1",
   "metadata": {},
   "outputs": [],
   "source": [
    "mean_frontage = grouped_data.mean()"
   ]
  },
  {
   "cell_type": "code",
   "execution_count": 56,
   "id": "554889bd-7907-49be-9c2c-8c134f8f9083",
   "metadata": {},
   "outputs": [],
   "source": [
    "#similarly calculating median and standard deviation "
   ]
  },
  {
   "cell_type": "code",
   "execution_count": 57,
   "id": "7c6024ba-5dd2-46dd-943d-50aca821c297",
   "metadata": {},
   "outputs": [],
   "source": [
    "frontage_median = grouped_data.median()"
   ]
  },
  {
   "cell_type": "code",
   "execution_count": 58,
   "id": "0019626b-5375-456b-bdaf-33457dbba379",
   "metadata": {},
   "outputs": [
    {
     "data": {
      "text/plain": [
       "Neighborhood\n",
       "Blmngtn    43.0\n",
       "Blueste    24.0\n",
       "BrDale     21.0\n",
       "BrkSide    51.0\n",
       "ClearCr    80.5\n",
       "CollgCr    70.0\n",
       "Crawfor    70.0\n",
       "Edwards    64.0\n",
       "Gilbert    64.0\n",
       "Greens     40.0\n",
       "GrnHill     NaN\n",
       "IDOTRR     60.0\n",
       "Landmrk     NaN\n",
       "MeadowV    21.0\n",
       "Mitchel    74.0\n",
       "NAmes      73.0\n",
       "NPkVill    24.0\n",
       "NWAmes     80.0\n",
       "NoRidge    89.0\n",
       "NridgHt    92.0\n",
       "OldTown    60.0\n",
       "SWISU      60.0\n",
       "Sawyer     72.0\n",
       "SawyerW    67.0\n",
       "Somerst    72.5\n",
       "StoneBr    60.0\n",
       "Timber     82.5\n",
       "Veenker    80.0\n",
       "Name: Lot Frontage, dtype: float64"
      ]
     },
     "execution_count": 58,
     "metadata": {},
     "output_type": "execute_result"
    }
   ],
   "source": [
    "frontage_median"
   ]
  },
  {
   "cell_type": "code",
   "execution_count": 59,
   "id": "fbf533f5-9357-46ef-9267-20910c50bba4",
   "metadata": {},
   "outputs": [
    {
     "data": {
      "text/plain": [
       "Neighborhood\n",
       "Blmngtn     4.919350\n",
       "Blueste     5.313505\n",
       "BrDale      1.137147\n",
       "BrkSide    12.722818\n",
       "ClearCr    22.628057\n",
       "CollgCr    15.940401\n",
       "Crawfor    19.141262\n",
       "Edwards    17.623879\n",
       "Gilbert    28.386654\n",
       "Greens      9.574271\n",
       "GrnHill          NaN\n",
       "IDOTRR     15.487504\n",
       "Landmrk          NaN\n",
       "MeadowV     8.521808\n",
       "Mitchel    26.794499\n",
       "NAmes      19.686198\n",
       "NPkVill    10.398489\n",
       "NWAmes     12.156335\n",
       "NoRidge    21.990818\n",
       "NridgHt    26.685697\n",
       "OldTown    15.642896\n",
       "SWISU       9.912167\n",
       "Sawyer     15.165154\n",
       "SawyerW    14.384331\n",
       "Somerst    23.984740\n",
       "StoneBr    21.696189\n",
       "Timber     23.386025\n",
       "Veenker    28.637970\n",
       "Name: Lot Frontage, dtype: float64"
      ]
     },
     "execution_count": 59,
     "metadata": {},
     "output_type": "execute_result"
    }
   ],
   "source": [
    "grouped_data.std()"
   ]
  },
  {
   "cell_type": "code",
   "execution_count": 60,
   "id": "60d4b4e8-b184-4138-ab41-ed97bafe0d82",
   "metadata": {},
   "outputs": [],
   "source": [
    "std_Frontage = grouped_data.std()"
   ]
  },
  {
   "cell_type": "code",
   "execution_count": 61,
   "id": "59c9bfa6-548a-4495-a8b1-b9fa4178a847",
   "metadata": {},
   "outputs": [
    {
     "data": {
      "text/plain": [
       "Neighborhood\n",
       "Blmngtn     4.919350\n",
       "Blueste     5.313505\n",
       "BrDale      1.137147\n",
       "BrkSide    12.722818\n",
       "ClearCr    22.628057\n",
       "CollgCr    15.940401\n",
       "Crawfor    19.141262\n",
       "Edwards    17.623879\n",
       "Gilbert    28.386654\n",
       "Greens      9.574271\n",
       "GrnHill          NaN\n",
       "IDOTRR     15.487504\n",
       "Landmrk          NaN\n",
       "MeadowV     8.521808\n",
       "Mitchel    26.794499\n",
       "NAmes      19.686198\n",
       "NPkVill    10.398489\n",
       "NWAmes     12.156335\n",
       "NoRidge    21.990818\n",
       "NridgHt    26.685697\n",
       "OldTown    15.642896\n",
       "SWISU       9.912167\n",
       "Sawyer     15.165154\n",
       "SawyerW    14.384331\n",
       "Somerst    23.984740\n",
       "StoneBr    21.696189\n",
       "Timber     23.386025\n",
       "Veenker    28.637970\n",
       "Name: Lot Frontage, dtype: float64"
      ]
     },
     "execution_count": 61,
     "metadata": {},
     "output_type": "execute_result"
    }
   ],
   "source": [
    "std_Frontage"
   ]
  },
  {
   "cell_type": "markdown",
   "id": "4a859db0-e8f6-4ecc-bdff-f645ae9a36bb",
   "metadata": {},
   "source": [
    "## Transform Data "
   ]
  },
  {
   "cell_type": "code",
   "execution_count": 62,
   "id": "301f12dc-8ad1-421a-8ae6-c9440170f638",
   "metadata": {},
   "outputs": [
    {
     "data": {
      "text/plain": [
       "0    141.0\n",
       "1     80.0\n",
       "2     81.0\n",
       "3     93.0\n",
       "4     74.0\n",
       "Name: Lot Frontage, dtype: float64"
      ]
     },
     "execution_count": 62,
     "metadata": {},
     "output_type": "execute_result"
    }
   ],
   "source": [
    "df.head()['Lot Frontage']"
   ]
  },
  {
   "cell_type": "code",
   "execution_count": 63,
   "id": "db6adab5-fa23-4660-b129-b17c28cf7fc9",
   "metadata": {},
   "outputs": [
    {
     "data": {
      "text/html": [
       "<div>\n",
       "<style scoped>\n",
       "    .dataframe tbody tr th:only-of-type {\n",
       "        vertical-align: middle;\n",
       "    }\n",
       "\n",
       "    .dataframe tbody tr th {\n",
       "        vertical-align: top;\n",
       "    }\n",
       "\n",
       "    .dataframe thead th {\n",
       "        text-align: right;\n",
       "    }\n",
       "</style>\n",
       "<table border=\"1\" class=\"dataframe\">\n",
       "  <thead>\n",
       "    <tr style=\"text-align: right;\">\n",
       "      <th></th>\n",
       "      <th>PID</th>\n",
       "      <th>MS SubClass</th>\n",
       "      <th>MS Zoning</th>\n",
       "      <th>Lot Frontage</th>\n",
       "      <th>Lot Area</th>\n",
       "      <th>Street</th>\n",
       "      <th>Lot Shape</th>\n",
       "      <th>Land Contour</th>\n",
       "      <th>Utilities</th>\n",
       "      <th>Lot Config</th>\n",
       "      <th>...</th>\n",
       "      <th>Enclosed Porch</th>\n",
       "      <th>3Ssn Porch</th>\n",
       "      <th>Screen Porch</th>\n",
       "      <th>Pool Area</th>\n",
       "      <th>Misc Val</th>\n",
       "      <th>Mo Sold</th>\n",
       "      <th>Yr Sold</th>\n",
       "      <th>Sale Type</th>\n",
       "      <th>Sale Condition</th>\n",
       "      <th>SalePrice</th>\n",
       "    </tr>\n",
       "  </thead>\n",
       "  <tbody>\n",
       "    <tr>\n",
       "      <th>11</th>\n",
       "      <td>527165230</td>\n",
       "      <td>20</td>\n",
       "      <td>RL</td>\n",
       "      <td>NaN</td>\n",
       "      <td>7980</td>\n",
       "      <td>Pave</td>\n",
       "      <td>IR1</td>\n",
       "      <td>Lvl</td>\n",
       "      <td>AllPub</td>\n",
       "      <td>Inside</td>\n",
       "      <td>...</td>\n",
       "      <td>0</td>\n",
       "      <td>0</td>\n",
       "      <td>0</td>\n",
       "      <td>0</td>\n",
       "      <td>500</td>\n",
       "      <td>3</td>\n",
       "      <td>2010</td>\n",
       "      <td>WD</td>\n",
       "      <td>Normal</td>\n",
       "      <td>185000</td>\n",
       "    </tr>\n",
       "    <tr>\n",
       "      <th>14</th>\n",
       "      <td>527182190</td>\n",
       "      <td>120</td>\n",
       "      <td>RL</td>\n",
       "      <td>NaN</td>\n",
       "      <td>6820</td>\n",
       "      <td>Pave</td>\n",
       "      <td>IR1</td>\n",
       "      <td>Lvl</td>\n",
       "      <td>AllPub</td>\n",
       "      <td>Corner</td>\n",
       "      <td>...</td>\n",
       "      <td>0</td>\n",
       "      <td>0</td>\n",
       "      <td>140</td>\n",
       "      <td>0</td>\n",
       "      <td>0</td>\n",
       "      <td>6</td>\n",
       "      <td>2010</td>\n",
       "      <td>WD</td>\n",
       "      <td>Normal</td>\n",
       "      <td>212000</td>\n",
       "    </tr>\n",
       "    <tr>\n",
       "      <th>22</th>\n",
       "      <td>527368020</td>\n",
       "      <td>60</td>\n",
       "      <td>FV</td>\n",
       "      <td>NaN</td>\n",
       "      <td>7500</td>\n",
       "      <td>Pave</td>\n",
       "      <td>Reg</td>\n",
       "      <td>Lvl</td>\n",
       "      <td>AllPub</td>\n",
       "      <td>Inside</td>\n",
       "      <td>...</td>\n",
       "      <td>0</td>\n",
       "      <td>0</td>\n",
       "      <td>0</td>\n",
       "      <td>0</td>\n",
       "      <td>0</td>\n",
       "      <td>1</td>\n",
       "      <td>2010</td>\n",
       "      <td>WD</td>\n",
       "      <td>Normal</td>\n",
       "      <td>216000</td>\n",
       "    </tr>\n",
       "    <tr>\n",
       "      <th>23</th>\n",
       "      <td>527402200</td>\n",
       "      <td>20</td>\n",
       "      <td>RL</td>\n",
       "      <td>NaN</td>\n",
       "      <td>11241</td>\n",
       "      <td>Pave</td>\n",
       "      <td>IR1</td>\n",
       "      <td>Lvl</td>\n",
       "      <td>AllPub</td>\n",
       "      <td>CulDSac</td>\n",
       "      <td>...</td>\n",
       "      <td>0</td>\n",
       "      <td>0</td>\n",
       "      <td>0</td>\n",
       "      <td>0</td>\n",
       "      <td>700</td>\n",
       "      <td>3</td>\n",
       "      <td>2010</td>\n",
       "      <td>WD</td>\n",
       "      <td>Normal</td>\n",
       "      <td>149000</td>\n",
       "    </tr>\n",
       "    <tr>\n",
       "      <th>24</th>\n",
       "      <td>527402250</td>\n",
       "      <td>20</td>\n",
       "      <td>RL</td>\n",
       "      <td>NaN</td>\n",
       "      <td>12537</td>\n",
       "      <td>Pave</td>\n",
       "      <td>IR1</td>\n",
       "      <td>Lvl</td>\n",
       "      <td>AllPub</td>\n",
       "      <td>CulDSac</td>\n",
       "      <td>...</td>\n",
       "      <td>0</td>\n",
       "      <td>0</td>\n",
       "      <td>0</td>\n",
       "      <td>0</td>\n",
       "      <td>0</td>\n",
       "      <td>4</td>\n",
       "      <td>2010</td>\n",
       "      <td>WD</td>\n",
       "      <td>Normal</td>\n",
       "      <td>149900</td>\n",
       "    </tr>\n",
       "    <tr>\n",
       "      <th>...</th>\n",
       "      <td>...</td>\n",
       "      <td>...</td>\n",
       "      <td>...</td>\n",
       "      <td>...</td>\n",
       "      <td>...</td>\n",
       "      <td>...</td>\n",
       "      <td>...</td>\n",
       "      <td>...</td>\n",
       "      <td>...</td>\n",
       "      <td>...</td>\n",
       "      <td>...</td>\n",
       "      <td>...</td>\n",
       "      <td>...</td>\n",
       "      <td>...</td>\n",
       "      <td>...</td>\n",
       "      <td>...</td>\n",
       "      <td>...</td>\n",
       "      <td>...</td>\n",
       "      <td>...</td>\n",
       "      <td>...</td>\n",
       "      <td>...</td>\n",
       "    </tr>\n",
       "    <tr>\n",
       "      <th>2891</th>\n",
       "      <td>916326010</td>\n",
       "      <td>20</td>\n",
       "      <td>RL</td>\n",
       "      <td>NaN</td>\n",
       "      <td>16669</td>\n",
       "      <td>Pave</td>\n",
       "      <td>IR1</td>\n",
       "      <td>Lvl</td>\n",
       "      <td>AllPub</td>\n",
       "      <td>Corner</td>\n",
       "      <td>...</td>\n",
       "      <td>0</td>\n",
       "      <td>0</td>\n",
       "      <td>0</td>\n",
       "      <td>0</td>\n",
       "      <td>0</td>\n",
       "      <td>1</td>\n",
       "      <td>2006</td>\n",
       "      <td>WD</td>\n",
       "      <td>Normal</td>\n",
       "      <td>228000</td>\n",
       "    </tr>\n",
       "    <tr>\n",
       "      <th>2894</th>\n",
       "      <td>916403130</td>\n",
       "      <td>60</td>\n",
       "      <td>RL</td>\n",
       "      <td>NaN</td>\n",
       "      <td>11170</td>\n",
       "      <td>Pave</td>\n",
       "      <td>IR2</td>\n",
       "      <td>Lvl</td>\n",
       "      <td>AllPub</td>\n",
       "      <td>Corner</td>\n",
       "      <td>...</td>\n",
       "      <td>0</td>\n",
       "      <td>0</td>\n",
       "      <td>0</td>\n",
       "      <td>0</td>\n",
       "      <td>0</td>\n",
       "      <td>4</td>\n",
       "      <td>2006</td>\n",
       "      <td>WD</td>\n",
       "      <td>Normal</td>\n",
       "      <td>250000</td>\n",
       "    </tr>\n",
       "    <tr>\n",
       "      <th>2895</th>\n",
       "      <td>916460070</td>\n",
       "      <td>20</td>\n",
       "      <td>RL</td>\n",
       "      <td>NaN</td>\n",
       "      <td>8098</td>\n",
       "      <td>Pave</td>\n",
       "      <td>IR1</td>\n",
       "      <td>Lvl</td>\n",
       "      <td>AllPub</td>\n",
       "      <td>Inside</td>\n",
       "      <td>...</td>\n",
       "      <td>0</td>\n",
       "      <td>0</td>\n",
       "      <td>0</td>\n",
       "      <td>0</td>\n",
       "      <td>0</td>\n",
       "      <td>10</td>\n",
       "      <td>2006</td>\n",
       "      <td>WD</td>\n",
       "      <td>Normal</td>\n",
       "      <td>202000</td>\n",
       "    </tr>\n",
       "    <tr>\n",
       "      <th>2909</th>\n",
       "      <td>923226150</td>\n",
       "      <td>90</td>\n",
       "      <td>RL</td>\n",
       "      <td>NaN</td>\n",
       "      <td>11836</td>\n",
       "      <td>Pave</td>\n",
       "      <td>IR1</td>\n",
       "      <td>Lvl</td>\n",
       "      <td>AllPub</td>\n",
       "      <td>Corner</td>\n",
       "      <td>...</td>\n",
       "      <td>0</td>\n",
       "      <td>0</td>\n",
       "      <td>0</td>\n",
       "      <td>0</td>\n",
       "      <td>0</td>\n",
       "      <td>3</td>\n",
       "      <td>2006</td>\n",
       "      <td>WD</td>\n",
       "      <td>Normal</td>\n",
       "      <td>146500</td>\n",
       "    </tr>\n",
       "    <tr>\n",
       "      <th>2923</th>\n",
       "      <td>923276100</td>\n",
       "      <td>20</td>\n",
       "      <td>RL</td>\n",
       "      <td>NaN</td>\n",
       "      <td>8885</td>\n",
       "      <td>Pave</td>\n",
       "      <td>IR1</td>\n",
       "      <td>Low</td>\n",
       "      <td>AllPub</td>\n",
       "      <td>Inside</td>\n",
       "      <td>...</td>\n",
       "      <td>0</td>\n",
       "      <td>0</td>\n",
       "      <td>0</td>\n",
       "      <td>0</td>\n",
       "      <td>0</td>\n",
       "      <td>6</td>\n",
       "      <td>2006</td>\n",
       "      <td>WD</td>\n",
       "      <td>Normal</td>\n",
       "      <td>131000</td>\n",
       "    </tr>\n",
       "  </tbody>\n",
       "</table>\n",
       "<p>490 rows × 77 columns</p>\n",
       "</div>"
      ],
      "text/plain": [
       "            PID  MS SubClass MS Zoning  Lot Frontage  Lot Area Street  \\\n",
       "11    527165230           20        RL           NaN      7980   Pave   \n",
       "14    527182190          120        RL           NaN      6820   Pave   \n",
       "22    527368020           60        FV           NaN      7500   Pave   \n",
       "23    527402200           20        RL           NaN     11241   Pave   \n",
       "24    527402250           20        RL           NaN     12537   Pave   \n",
       "...         ...          ...       ...           ...       ...    ...   \n",
       "2891  916326010           20        RL           NaN     16669   Pave   \n",
       "2894  916403130           60        RL           NaN     11170   Pave   \n",
       "2895  916460070           20        RL           NaN      8098   Pave   \n",
       "2909  923226150           90        RL           NaN     11836   Pave   \n",
       "2923  923276100           20        RL           NaN      8885   Pave   \n",
       "\n",
       "     Lot Shape Land Contour Utilities Lot Config  ... Enclosed Porch  \\\n",
       "11         IR1          Lvl    AllPub     Inside  ...              0   \n",
       "14         IR1          Lvl    AllPub     Corner  ...              0   \n",
       "22         Reg          Lvl    AllPub     Inside  ...              0   \n",
       "23         IR1          Lvl    AllPub    CulDSac  ...              0   \n",
       "24         IR1          Lvl    AllPub    CulDSac  ...              0   \n",
       "...        ...          ...       ...        ...  ...            ...   \n",
       "2891       IR1          Lvl    AllPub     Corner  ...              0   \n",
       "2894       IR2          Lvl    AllPub     Corner  ...              0   \n",
       "2895       IR1          Lvl    AllPub     Inside  ...              0   \n",
       "2909       IR1          Lvl    AllPub     Corner  ...              0   \n",
       "2923       IR1          Low    AllPub     Inside  ...              0   \n",
       "\n",
       "     3Ssn Porch Screen Porch Pool Area Misc Val Mo Sold  Yr Sold  Sale Type  \\\n",
       "11            0            0         0      500       3     2010        WD    \n",
       "14            0          140         0        0       6     2010        WD    \n",
       "22            0            0         0        0       1     2010        WD    \n",
       "23            0            0         0      700       3     2010        WD    \n",
       "24            0            0         0        0       4     2010        WD    \n",
       "...         ...          ...       ...      ...     ...      ...        ...   \n",
       "2891          0            0         0        0       1     2006        WD    \n",
       "2894          0            0         0        0       4     2006        WD    \n",
       "2895          0            0         0        0      10     2006        WD    \n",
       "2909          0            0         0        0       3     2006        WD    \n",
       "2923          0            0         0        0       6     2006        WD    \n",
       "\n",
       "      Sale Condition  SalePrice  \n",
       "11            Normal     185000  \n",
       "14            Normal     212000  \n",
       "22            Normal     216000  \n",
       "23            Normal     149000  \n",
       "24            Normal     149900  \n",
       "...              ...        ...  \n",
       "2891          Normal     228000  \n",
       "2894          Normal     250000  \n",
       "2895          Normal     202000  \n",
       "2909          Normal     146500  \n",
       "2923          Normal     131000  \n",
       "\n",
       "[490 rows x 77 columns]"
      ]
     },
     "execution_count": 63,
     "metadata": {},
     "output_type": "execute_result"
    }
   ],
   "source": [
    "df[df['Lot Frontage'].isnull()]"
   ]
  },
  {
   "cell_type": "code",
   "execution_count": 64,
   "id": "60ce399e-df06-4eb8-8bb8-9c8cead478cb",
   "metadata": {},
   "outputs": [
    {
     "data": {
      "text/plain": [
       "21    85.0\n",
       "22     NaN\n",
       "23     NaN\n",
       "24     NaN\n",
       "25    65.0\n",
       "Name: Lot Frontage, dtype: float64"
      ]
     },
     "execution_count": 64,
     "metadata": {},
     "output_type": "execute_result"
    }
   ],
   "source": [
    "df.iloc[21:26]['Lot Frontage']"
   ]
  },
  {
   "cell_type": "code",
   "execution_count": 65,
   "id": "bcb2875a-fff3-480d-bdc6-560833541375",
   "metadata": {},
   "outputs": [
    {
     "data": {
      "text/plain": [
       "21     NWAmes\n",
       "22    Somerst\n",
       "23      NAmes\n",
       "24      NAmes\n",
       "25      NAmes\n",
       "Name: Neighborhood, dtype: object"
      ]
     },
     "execution_count": 65,
     "metadata": {},
     "output_type": "execute_result"
    }
   ],
   "source": [
    "df.iloc[21:26]['Neighborhood']"
   ]
  },
  {
   "cell_type": "code",
   "execution_count": 66,
   "id": "9143236b-aaf5-4eee-ad40-84fc151a7146",
   "metadata": {},
   "outputs": [],
   "source": [
    "# preserving data integrity and consistecy"
   ]
  },
  {
   "cell_type": "code",
   "execution_count": 67,
   "id": "8822ba44-3567-46f5-8bd0-3bfecab4a660",
   "metadata": {},
   "outputs": [
    {
     "data": {
      "text/plain": [
       "21    85.000000\n",
       "22    64.549383\n",
       "23    75.210667\n",
       "24    75.210667\n",
       "25    65.000000\n",
       "Name: Lot Frontage, dtype: float64"
      ]
     },
     "execution_count": 67,
     "metadata": {},
     "output_type": "execute_result"
    }
   ],
   "source": [
    "df.groupby('Neighborhood')['Lot Frontage'].transform(lambda val : val.fillna(val.mean())).iloc[21:26]"
   ]
  },
  {
   "cell_type": "code",
   "execution_count": 68,
   "id": "f03826e6-8daa-4aaf-997f-b9d5011a5a24",
   "metadata": {},
   "outputs": [],
   "source": [
    "df['Lot Frontage'] = df.groupby('Neighborhood')['Lot Frontage'].transform(lambda val : val.fillna(val.mean()))"
   ]
  },
  {
   "cell_type": "code",
   "execution_count": 69,
   "id": "c781cc26-3481-4dfa-9127-6a3c5e96af4b",
   "metadata": {},
   "outputs": [],
   "source": [
    "missing_percent = percent_missing(df)"
   ]
  },
  {
   "cell_type": "code",
   "execution_count": 70,
   "id": "a6662e82-500e-4a0b-b231-2a650b5a2fa8",
   "metadata": {},
   "outputs": [
    {
     "data": {
      "text/plain": [
       "<Axes: >"
      ]
     },
     "execution_count": 70,
     "metadata": {},
     "output_type": "execute_result"
    },
    {
     "data": {
      "image/png": "[encoded data removed]",
      "text/plain": [
       "<Figure size 640x480 with 1 Axes>"
      ]
     },
     "metadata": {},
     "output_type": "display_data"
    }
   ],
   "source": [
    "sns.barplot(x = missing_percent.index, y = missing_percent)"
   ]
  },
  {
   "cell_type": "code",
   "execution_count": 71,
   "id": "4efe9a07-868d-43e8-b33a-c7b60a30a4fd",
   "metadata": {},
   "outputs": [],
   "source": [
    "df['Lot Frontage'] = df['Lot Frontage'].fillna(0)"
   ]
  },
  {
   "cell_type": "code",
   "execution_count": 72,
   "id": "ad781891-e1d7-4467-9328-1c5fcf62c36e",
   "metadata": {},
   "outputs": [],
   "source": [
    "missing_percent = percent_missing(df)"
   ]
  },
  {
   "cell_type": "code",
   "execution_count": 73,
   "id": "480089cf-e399-494b-8ac4-d92107d9be03",
   "metadata": {},
   "outputs": [
    {
     "data": {
      "text/plain": [
       "Series([], dtype: float64)"
      ]
     },
     "execution_count": 73,
     "metadata": {},
     "output_type": "execute_result"
    }
   ],
   "source": [
    "missing_percent"
   ]
  },
  {
   "cell_type": "code",
   "execution_count": 74,
   "id": "13c87b48-4441-4ec4-8480-f56abe1b2f36",
   "metadata": {},
   "outputs": [],
   "source": [
    "# naw we don't have any missing data in our final dataset "
   ]
  },
  {
   "cell_type": "code",
   "execution_count": 75,
   "id": "32ee3d9d-4da1-4433-9b28-33362821153d",
   "metadata": {},
   "outputs": [],
   "source": [
    "df.to_csv(r'Ames_clean_data.csv', index = False)"
   ]
  }
 ],
 "metadata": {
  "kernelspec": {
   "display_name": "Python 3 (ipykernel)",
   "language": "python",
   "name": "python3"
  },
  "language_info": {
   "codemirror_mode": {
    "name": "ipython",
    "version": 3
   },
   "file_extension": ".py",
   "mimetype": "text/x-python",
   "name": "python",
   "nbconvert_exporter": "python",
   "pygments_lexer": "ipython3",
   "version": "3.11.7"
  }
 },
 "nbformat": 4,
 "nbformat_minor": 5
}
